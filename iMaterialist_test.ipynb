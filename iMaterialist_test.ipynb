{
  "nbformat": 4,
  "nbformat_minor": 0,
  "metadata": {
    "kernelspec": {
      "name": "python3",
      "display_name": "Python 3"
    },
    "language_info": {
      "pygments_lexer": "ipython3",
      "nbconvert_exporter": "python",
      "version": "3.6.4",
      "file_extension": ".py",
      "codemirror_mode": {
        "name": "ipython",
        "version": 3
      },
      "name": "python",
      "mimetype": "text/x-python"
    },
    "colab": {
      "name": "iMaterialist_test.ipynb",
      "provenance": [],
      "collapsed_sections": [],
      "include_colab_link": true
    },
    "accelerator": "GPU"
  },
  "cells": [
    {
      "cell_type": "markdown",
      "metadata": {
        "id": "view-in-github",
        "colab_type": "text"
      },
      "source": [
        "<a href=\"https://colab.research.google.com/github/tupoylogin/segmentation_test_task/blob/master/iMaterialist_test.ipynb\" target=\"_parent\"><img src=\"https://colab.research.google.com/assets/colab-badge.svg\" alt=\"Open In Colab\"/></a>"
      ]
    },
    {
      "cell_type": "code",
      "metadata": {
        "trusted": true,
        "id": "H2ZOfoXKOy2O",
        "colab_type": "code",
        "outputId": "a141d0a5-39ef-4f12-af04-c3035346b7a1",
        "colab": {
          "base_uri": "https://localhost:8080/",
          "height": 637
        }
      },
      "source": [
        "!pip install tensorflow-gpu==1.15.0\n",
        "!pip install keras==2.2.5"
      ],
      "execution_count": 1,
      "outputs": [
        {
          "output_type": "stream",
          "text": [
            "Collecting tensorflow-gpu==1.15.0\n",
            "\u001b[?25l  Downloading https://files.pythonhosted.org/packages/a5/ad/933140e74973fb917a194ab814785e7c23680ca5dee6d663a509fe9579b6/tensorflow_gpu-1.15.0-cp36-cp36m-manylinux2010_x86_64.whl (411.5MB)\n",
            "\u001b[K     |████████████████████████████████| 411.5MB 39kB/s \n",
            "\u001b[?25hRequirement already satisfied: numpy<2.0,>=1.16.0 in /usr/local/lib/python3.6/dist-packages (from tensorflow-gpu==1.15.0) (1.17.4)\n",
            "Requirement already satisfied: keras-preprocessing>=1.0.5 in /usr/local/lib/python3.6/dist-packages (from tensorflow-gpu==1.15.0) (1.1.0)\n",
            "Requirement already satisfied: wrapt>=1.11.1 in /usr/local/lib/python3.6/dist-packages (from tensorflow-gpu==1.15.0) (1.11.2)\n",
            "Requirement already satisfied: six>=1.10.0 in /usr/local/lib/python3.6/dist-packages (from tensorflow-gpu==1.15.0) (1.12.0)\n",
            "Requirement already satisfied: tensorboard<1.16.0,>=1.15.0 in /usr/local/lib/python3.6/dist-packages (from tensorflow-gpu==1.15.0) (1.15.0)\n",
            "Requirement already satisfied: tensorflow-estimator==1.15.1 in /usr/local/lib/python3.6/dist-packages (from tensorflow-gpu==1.15.0) (1.15.1)\n",
            "Requirement already satisfied: termcolor>=1.1.0 in /usr/local/lib/python3.6/dist-packages (from tensorflow-gpu==1.15.0) (1.1.0)\n",
            "Requirement already satisfied: keras-applications>=1.0.8 in /usr/local/lib/python3.6/dist-packages (from tensorflow-gpu==1.15.0) (1.0.8)\n",
            "Requirement already satisfied: opt-einsum>=2.3.2 in /usr/local/lib/python3.6/dist-packages (from tensorflow-gpu==1.15.0) (3.1.0)\n",
            "Requirement already satisfied: google-pasta>=0.1.6 in /usr/local/lib/python3.6/dist-packages (from tensorflow-gpu==1.15.0) (0.1.8)\n",
            "Requirement already satisfied: protobuf>=3.6.1 in /usr/local/lib/python3.6/dist-packages (from tensorflow-gpu==1.15.0) (3.10.0)\n",
            "Requirement already satisfied: absl-py>=0.7.0 in /usr/local/lib/python3.6/dist-packages (from tensorflow-gpu==1.15.0) (0.8.1)\n",
            "Requirement already satisfied: wheel>=0.26 in /usr/local/lib/python3.6/dist-packages (from tensorflow-gpu==1.15.0) (0.33.6)\n",
            "Requirement already satisfied: grpcio>=1.8.6 in /usr/local/lib/python3.6/dist-packages (from tensorflow-gpu==1.15.0) (1.15.0)\n",
            "Requirement already satisfied: astor>=0.6.0 in /usr/local/lib/python3.6/dist-packages (from tensorflow-gpu==1.15.0) (0.8.1)\n",
            "Requirement already satisfied: gast==0.2.2 in /usr/local/lib/python3.6/dist-packages (from tensorflow-gpu==1.15.0) (0.2.2)\n",
            "Requirement already satisfied: markdown>=2.6.8 in /usr/local/lib/python3.6/dist-packages (from tensorboard<1.16.0,>=1.15.0->tensorflow-gpu==1.15.0) (3.1.1)\n",
            "Requirement already satisfied: setuptools>=41.0.0 in /usr/local/lib/python3.6/dist-packages (from tensorboard<1.16.0,>=1.15.0->tensorflow-gpu==1.15.0) (42.0.2)\n",
            "Requirement already satisfied: werkzeug>=0.11.15 in /usr/local/lib/python3.6/dist-packages (from tensorboard<1.16.0,>=1.15.0->tensorflow-gpu==1.15.0) (0.16.0)\n",
            "Requirement already satisfied: h5py in /usr/local/lib/python3.6/dist-packages (from keras-applications>=1.0.8->tensorflow-gpu==1.15.0) (2.8.0)\n",
            "Installing collected packages: tensorflow-gpu\n",
            "Successfully installed tensorflow-gpu-1.15.0\n",
            "Requirement already satisfied: keras==2.2.5 in /usr/local/lib/python3.6/dist-packages (2.2.5)\n",
            "Requirement already satisfied: keras-applications>=1.0.8 in /usr/local/lib/python3.6/dist-packages (from keras==2.2.5) (1.0.8)\n",
            "Requirement already satisfied: keras-preprocessing>=1.1.0 in /usr/local/lib/python3.6/dist-packages (from keras==2.2.5) (1.1.0)\n",
            "Requirement already satisfied: numpy>=1.9.1 in /usr/local/lib/python3.6/dist-packages (from keras==2.2.5) (1.17.4)\n",
            "Requirement already satisfied: scipy>=0.14 in /usr/local/lib/python3.6/dist-packages (from keras==2.2.5) (1.3.3)\n",
            "Requirement already satisfied: pyyaml in /usr/local/lib/python3.6/dist-packages (from keras==2.2.5) (3.13)\n",
            "Requirement already satisfied: six>=1.9.0 in /usr/local/lib/python3.6/dist-packages (from keras==2.2.5) (1.12.0)\n",
            "Requirement already satisfied: h5py in /usr/local/lib/python3.6/dist-packages (from keras==2.2.5) (2.8.0)\n"
          ],
          "name": "stdout"
        }
      ]
    },
    {
      "cell_type": "code",
      "metadata": {
        "id": "CbcAqXQSTHzo",
        "colab_type": "code",
        "colab": {}
      },
      "source": [
        "!mkdir ~/.kaggle\n",
        "!cp /content/kaggle.json ~/.kaggle/kaggle.json"
      ],
      "execution_count": 0,
      "outputs": []
    },
    {
      "cell_type": "code",
      "metadata": {
        "id": "nEDA7hbQcC29",
        "colab_type": "code",
        "outputId": "e06bf0ac-a875-476f-ae55-461e17fb6a70",
        "colab": {
          "base_uri": "https://localhost:8080/",
          "height": 35
        }
      },
      "source": [
        "!cd ../kaggle"
      ],
      "execution_count": 3,
      "outputs": [
        {
          "output_type": "stream",
          "text": [
            "/bin/bash: line 0: cd: ../kaggle: No such file or directory\n"
          ],
          "name": "stdout"
        }
      ]
    },
    {
      "cell_type": "code",
      "metadata": {
        "id": "8gBiGRrPStFW",
        "colab_type": "code",
        "outputId": "ceab37f6-b054-4bea-a6e5-a8222080f605",
        "colab": {
          "base_uri": "https://localhost:8080/",
          "height": 1000
        }
      },
      "source": [
        "!chmod 600 ~/.kaggle/kaggle.json\n",
        "!kaggle config path -p /content\n",
        "!kaggle competitions download -c imaterialist-fashion-2019-FGVC6"
      ],
      "execution_count": 4,
      "outputs": [
        {
          "output_type": "stream",
          "text": [
            "usage: kaggle config [-h] {view,set,unset} ...\n",
            "kaggle config: error: argument command: invalid choice: 'path' (choose from 'view', 'set', 'unset')\n",
            "Warning: Looks like you're using an outdated API Version, please consider updating (server 1.5.6 / client 1.5.4)\n",
            "Downloading 001039acb67251508b1b32fd37a49f43.jpg to /content\n",
            "  0% 0.00/318k [00:00<?, ?B/s]\n",
            "100% 318k/318k [00:00<00:00, 44.0MB/s]\n",
            "Downloading 000e18920575a2e59b3a0c38e6546d29.jpg to /content\n",
            "  0% 0.00/58.8k [00:00<?, ?B/s]\n",
            "100% 58.8k/58.8k [00:00<00:00, 60.6MB/s]\n",
            "Downloading 000b3a87508b0fa185fbd53ecbe2e4c6.jpg to /content\n",
            "  0% 0.00/143k [00:00<?, ?B/s]\n",
            "100% 143k/143k [00:00<00:00, 46.2MB/s]\n",
            "Downloading 0000fe7c9191fba733c8a69cfaf962b7.jpg to /content\n",
            "  0% 0.00/351k [00:00<?, ?B/s]\n",
            "100% 351k/351k [00:00<00:00, 107MB/s]\n",
            "Downloading 0002f5a0ebc162ecfb73e2c91e3b8f62.jpg to /content\n",
            "  0% 0.00/38.1k [00:00<?, ?B/s]\n",
            "100% 38.1k/38.1k [00:00<00:00, 33.5MB/s]\n",
            "Downloading 000e973c99dc090afd7898c93daf0dbc.jpg to /content\n",
            "  0% 0.00/799k [00:00<?, ?B/s]\n",
            "100% 799k/799k [00:00<00:00, 53.3MB/s]\n",
            "Downloading 000e147149bf33c584afaa953bc198ed.jpg to /content\n",
            "  0% 0.00/139k [00:00<?, ?B/s]\n",
            "100% 139k/139k [00:00<00:00, 125MB/s]\n",
            "Downloading 0002ec21ddb8477e98b2cbb87ea2e269.jpg to /content\n",
            "  0% 0.00/0.98M [00:00<?, ?B/s]\n",
            "100% 0.98M/0.98M [00:00<00:00, 140MB/s]\n",
            "Downloading 000775b6b5e27b011dc8bba2d7b85211.jpg to /content\n",
            "  0% 0.00/276k [00:00<?, ?B/s]\n",
            "100% 276k/276k [00:00<00:00, 89.4MB/s]\n",
            "Downloading 000b3ec2c6eaffb491a5abb72c2e3e26.jpg to /content\n",
            "  0% 0.00/874k [00:00<?, ?B/s]\n",
            "100% 874k/874k [00:00<00:00, 122MB/s]\n",
            "Downloading 000c5bb8ca785bce8d00e3a6c7802a8c.jpg to /content\n",
            "  0% 0.00/75.2k [00:00<?, ?B/s]\n",
            "100% 75.2k/75.2k [00:00<00:00, 75.1MB/s]\n",
            "Downloading 00000663ed1ff0c4e0132b9b9ac53f6e.jpg to /content\n",
            "  0% 0.00/754k [00:00<?, ?B/s]\n",
            "100% 754k/754k [00:00<00:00, 106MB/s]\n",
            "Downloading 00048c3a2fb9c29340473c4cfc06424a.jpg to /content\n",
            "  0% 0.00/117k [00:00<?, ?B/s]\n",
            "100% 117k/117k [00:00<00:00, 127MB/s]\n",
            "Downloading 0004467156e47b0eb6de4aa6479cbd15.jpg to /content\n",
            "  0% 0.00/81.1k [00:00<?, ?B/s]\n",
            "100% 81.1k/81.1k [00:00<00:00, 142MB/s]\n",
            "Downloading 00102686c01fa625aba3b2478f48f415.jpg to /content\n",
            "  0% 0.00/524k [00:00<?, ?B/s]\n",
            "100% 524k/524k [00:00<00:00, 73.4MB/s]\n",
            "Downloading 0006ea84499fd9a06fefbdf47a5eb4c0.jpg to /content\n",
            "  0% 0.00/153k [00:00<?, ?B/s]\n",
            "100% 153k/153k [00:00<00:00, 146MB/s]\n",
            "Downloading 000cd2e13d1bdd28f480304d7bb9e1ca.jpg to /content\n",
            "  0% 0.00/527k [00:00<?, ?B/s]\n",
            "100% 527k/527k [00:00<00:00, 91.1MB/s]\n",
            "Downloading 000c9b4926cd78edd4c19cbc6beba111.jpg to /content\n",
            "  0% 0.00/262k [00:00<?, ?B/s]\n",
            "100% 262k/262k [00:00<00:00, 161MB/s]\n",
            "Downloading 0010ef2da53cd76ee26122a65f6e76ee.jpg to /content\n",
            "  0% 0.00/737k [00:00<?, ?B/s]\n",
            "100% 737k/737k [00:00<00:00, 103MB/s]\n",
            "Downloading 000aac3870ea7c59ca0333ffa5327323.jpg.zip to /content\n",
            "  0% 0.00/2.42M [00:00<?, ?B/s]\n",
            "100% 2.42M/2.42M [00:00<00:00, 163MB/s]\n",
            "Downloading 00d6e5891b7507fccbd49f2c2756b114.jpg to /content\n",
            "  0% 0.00/74.6k [00:00<?, ?B/s]\n",
            "100% 74.6k/74.6k [00:00<00:00, 78.8MB/s]\n",
            "Downloading 010cf2ab96d1d730e15c76720af0e1a6.jpg.zip to /content\n",
            "  0% 0.00/1.04M [00:00<?, ?B/s]\n",
            "100% 1.04M/1.04M [00:00<00:00, 70.2MB/s]\n",
            "Downloading 014c44b97f844dffda594b9e00a4b3fd.jpg to /content\n",
            "  0% 0.00/700k [00:00<?, ?B/s]\n",
            "100% 700k/700k [00:00<00:00, 77.9MB/s]\n",
            "Downloading 011ccdc0d82e359420e5b578740d7971.jpg to /content\n",
            "  0% 0.00/588k [00:00<?, ?B/s]\n",
            "100% 588k/588k [00:00<00:00, 180MB/s]\n",
            "Downloading 014eadcd4cf28a669232d4b6470e4e01.jpg to /content\n",
            "  0% 0.00/157k [00:00<?, ?B/s]\n",
            "100% 157k/157k [00:00<00:00, 141MB/s]\n",
            "Downloading 0146a53e12d690914995248fb6872121.jpg to /content\n",
            "  0% 0.00/75.7k [00:00<?, ?B/s]\n",
            "100% 75.7k/75.7k [00:00<00:00, 106MB/s]\n",
            "Downloading 00faa1032cc0809974a8d2dd7b018497.jpg to /content\n",
            "  0% 0.00/247k [00:00<?, ?B/s]\n",
            "100% 247k/247k [00:00<00:00, 74.4MB/s]\n",
            "Downloading 003d41dd20f271d27219fe7ee6de727d.jpg to /content\n",
            "  0% 0.00/125k [00:00<?, ?B/s]\n",
            "100% 125k/125k [00:00<00:00, 40.7MB/s]\n",
            "Downloading 009b107156c1ee41b03c5b35a82e7232.jpg.zip to /content\n",
            "  0% 0.00/1.17M [00:00<?, ?B/s]\n",
            "100% 1.17M/1.17M [00:00<00:00, 66.4MB/s]\n",
            "Downloading 00a325fd4dc22079095ab46330abf7be.jpg to /content\n",
            "  0% 0.00/726k [00:00<?, ?B/s]\n",
            "100% 726k/726k [00:00<00:00, 103MB/s]\n",
            "Downloading 0046f98599f05fd7233973e430d6d04d.jpg.zip to /content\n",
            "  0% 0.00/1.37M [00:00<?, ?B/s]\n",
            "100% 1.37M/1.37M [00:00<00:00, 94.1MB/s]\n",
            "Downloading 00a8764cff12b2e849c850f4be5608bc.jpg to /content\n",
            "  0% 0.00/424k [00:00<?, ?B/s]\n",
            "100% 424k/424k [00:00<00:00, 133MB/s]\n",
            "Downloading 00f1db534538841931f15f2bb5cec76c.jpg to /content\n",
            "  0% 0.00/85.4k [00:00<?, ?B/s]\n",
            "100% 85.4k/85.4k [00:00<00:00, 86.8MB/s]\n",
            "Downloading 00a1940434d687a785be0acf2b0fbff3.jpg to /content\n",
            "  0% 0.00/155k [00:00<?, ?B/s]\n",
            "100% 155k/155k [00:00<00:00, 51.0MB/s]\n",
            "Downloading 00d5da56c02d426c4e4bf802b1888471.jpg to /content\n",
            "  0% 0.00/465k [00:00<?, ?B/s]\n",
            "100% 465k/465k [00:00<00:00, 64.4MB/s]\n",
            "Downloading 005b37fce3c0f641d327d95dd832f51b.jpg.zip to /content\n",
            "  0% 0.00/1.98M [00:00<?, ?B/s]\n",
            "100% 1.98M/1.98M [00:00<00:00, 65.0MB/s]\n",
            "Downloading 0099bc6cd3b8c47c2d21a2877b1fa533.jpg.zip to /content\n",
            "  0% 0.00/1.11M [00:00<?, ?B/s]\n",
            "100% 1.11M/1.11M [00:00<00:00, 74.8MB/s]\n",
            "Downloading 00e45dd233e31906f538ba17dd45bf29.jpg to /content\n",
            "  0% 0.00/253k [00:00<?, ?B/s]\n",
            "100% 253k/253k [00:00<00:00, 226MB/s]\n",
            "Downloading 0094940c58c343b742f48ae26eb5e9fa.jpg to /content\n",
            "  0% 0.00/114k [00:00<?, ?B/s]\n",
            "100% 114k/114k [00:00<00:00, 36.5MB/s]\n",
            "Downloading 004e9e21cd1aca568a8ffc77a54638ce.jpg to /content\n",
            "  0% 0.00/153k [00:00<?, ?B/s]\n",
            "100% 153k/153k [00:00<00:00, 133MB/s]\n",
            "Downloading sample_submission.csv to /content\n",
            "  0% 0.00/138k [00:00<?, ?B/s]\n",
            "100% 138k/138k [00:00<00:00, 143MB/s]\n",
            "Downloading label_descriptions.json to /content\n",
            "  0% 0.00/15.7k [00:00<?, ?B/s]\n",
            "100% 15.7k/15.7k [00:00<00:00, 16.2MB/s]\n",
            "Downloading train.csv.zip to /content\n",
            " 98% 532M/545M [00:09<00:00, 52.3MB/s]\n",
            "100% 545M/545M [00:09<00:00, 60.8MB/s]\n"
          ],
          "name": "stdout"
        }
      ]
    },
    {
      "cell_type": "code",
      "metadata": {
        "_uuid": "8f2839f25d086af736a60e9eeb907d3b93b6e0e5",
        "_cell_guid": "b1076dfc-b9ad-4769-8c92-a6c4dae69d19",
        "trusted": true,
        "id": "R1NyahPoOy2U",
        "colab_type": "code",
        "colab": {}
      },
      "source": [
        "%matplotlib inline\n",
        "import os\n",
        "import gc\n",
        "import sys\n",
        "import json\n",
        "import glob\n",
        "import random \n",
        "\n",
        "import numpy as np # linear algebra\n",
        "import pandas as pd # data processing, CSV file I/O (e.g. pd.read_csv)\n",
        "import cv2\n",
        "import seaborn as sns\n",
        "import matplotlib.pyplot as plt\n",
        "from pathlib import Path\n",
        "\n",
        "import itertools\n",
        "from tqdm import tqdm\n",
        "\n",
        "from imgaug import augmenters as iaa\n",
        "# Any results you write to the current directory are saved as output."
      ],
      "execution_count": 0,
      "outputs": []
    },
    {
      "cell_type": "markdown",
      "metadata": {
        "id": "EoOCDIveOy2a",
        "colab_type": "text"
      },
      "source": [
        "Используем **mask_rcnn** для сегментации. Проверим как сеть переобучится на двух архитектурах."
      ]
    },
    {
      "cell_type": "code",
      "metadata": {
        "_uuid": "d629ff2d2480ee46fbb7e2d37f6b5fab8052498a",
        "_cell_guid": "79c7e3d0-c299-4dcb-8224-4455121ee9b0",
        "trusted": true,
        "id": "lXij0LW4Oy2b",
        "colab_type": "code",
        "outputId": "9beadb93-e5bd-43f7-d681-acb9f604c0ad",
        "colab": {
          "base_uri": "https://localhost:8080/",
          "height": 145
        }
      },
      "source": [
        "!git clone https://www.github.com/matterport/Mask_RCNN.git\n",
        "!pip install -q git+https://github.com/tensorflow/examples.git"
      ],
      "execution_count": 6,
      "outputs": [
        {
          "output_type": "stream",
          "text": [
            "Cloning into 'Mask_RCNN'...\n",
            "warning: redirecting to https://github.com/matterport/Mask_RCNN.git/\n",
            "remote: Enumerating objects: 956, done.\u001b[K\n",
            "remote: Total 956 (delta 0), reused 0 (delta 0), pack-reused 956\n",
            "Receiving objects: 100% (956/956), 111.83 MiB | 29.65 MiB/s, done.\n",
            "Resolving deltas: 100% (569/569), done.\n",
            "  Building wheel for tensorflow-examples (setup.py) ... \u001b[?25l\u001b[?25hdone\n"
          ],
          "name": "stdout"
        }
      ]
    },
    {
      "cell_type": "code",
      "metadata": {
        "trusted": true,
        "id": "bRU0jH5LOy2e",
        "colab_type": "code",
        "colab": {}
      },
      "source": [
        "zipped = []\n",
        "fn = []\n",
        "for dirname, _, filenames in os.walk('/content'):\n",
        "  for filename in filenames:\n",
        "    if filename.endswith('zip'):\n",
        "      zipped.append(os.path.join(dirname, filename))\n",
        "    elif filename.endswith('jpg'):\n",
        "      fn.append(filename)"
      ],
      "execution_count": 0,
      "outputs": []
    },
    {
      "cell_type": "code",
      "metadata": {
        "id": "XV8wOYWvkDYp",
        "colab_type": "code",
        "colab": {}
      },
      "source": [
        "import zipfile \n",
        "for file in zipped:\n",
        "    zip_ref = zipfile.ZipFile(file, 'r')\n",
        "    zip_ref.extractall()\n",
        "    zip_ref.close()"
      ],
      "execution_count": 0,
      "outputs": []
    },
    {
      "cell_type": "code",
      "metadata": {
        "trusted": true,
        "id": "23GivclYOy2g",
        "colab_type": "code",
        "colab": {}
      },
      "source": [
        "os.chdir('Mask_RCNN')\n",
        "DATA_DIR = Path('/content/')\n",
        "ROOT_DIR = Path('/kaggle/working')"
      ],
      "execution_count": 0,
      "outputs": []
    },
    {
      "cell_type": "markdown",
      "metadata": {
        "id": "FCFMRhPXOy2j",
        "colab_type": "text"
      },
      "source": [
        "Импортируем модули из репо сетки"
      ]
    },
    {
      "cell_type": "code",
      "metadata": {
        "trusted": true,
        "id": "SirxIYPrOy2k",
        "colab_type": "code",
        "outputId": "f4b7a512-e4ae-4e51-98e5-09d23279829e",
        "colab": {
          "base_uri": "https://localhost:8080/",
          "height": 54
        }
      },
      "source": [
        "%tensorflow_version 1.x \n",
        "sys.path.append(str(ROOT_DIR/'Mask_RCNN'))\n",
        "\n",
        "from mrcnn.config import Config\n",
        "from mrcnn import utils\n",
        "import mrcnn.model as modellib\n",
        "from mrcnn import visualize\n",
        "from mrcnn.model import log\n",
        "\n",
        "!wget --quiet https://github.com/matterport/Mask_RCNN/releases/download/v2.0/mask_rcnn_coco.h5\n",
        "!ls -lh mask_rcnn_coco.h5\n",
        "\n",
        "COCO_WEIGHTS_PATH = 'mask_rcnn_coco.h5'"
      ],
      "execution_count": 10,
      "outputs": [
        {
          "output_type": "stream",
          "text": [
            "Using TensorFlow backend.\n"
          ],
          "name": "stderr"
        },
        {
          "output_type": "stream",
          "text": [
            "-rw-r--r-- 1 root root 246M Nov 26  2017 mask_rcnn_coco.h5\n"
          ],
          "name": "stdout"
        }
      ]
    },
    {
      "cell_type": "markdown",
      "metadata": {
        "id": "5feiuVoUOy2m",
        "colab_type": "text"
      },
      "source": [
        "Задаем конфигурацию сети, то есть ее тип, архитектуру, размер входщего изображеня, количество классов"
      ]
    },
    {
      "cell_type": "code",
      "metadata": {
        "trusted": true,
        "id": "bU4DPRAvOy2o",
        "colab_type": "code",
        "outputId": "94265772-46b7-4d3d-92dd-cca11c293135",
        "colab": {
          "base_uri": "https://localhost:8080/",
          "height": 983
        }
      },
      "source": [
        "# config: either 'resnet50' or 'resnet101' is supported\n",
        "\n",
        "NUM_CATS = 46\n",
        "IMAGE_SIZE = 512\n",
        "\n",
        "class Config_(Config):\n",
        "    def __init__(self, bbone):\n",
        "        super().__init__()\n",
        "        self.BACKBONE = bbone \n",
        "        \n",
        "    NAME = \"fashion\"\n",
        "    NUM_CLASSES = NUM_CATS + 1 # background\n",
        "    \n",
        "    GPU_COUNT = 1\n",
        "    IMAGES_PER_GPU = 2 \n",
        "    \n",
        "    \n",
        "    \n",
        "    IMAGE_MIN_DIM = IMAGE_SIZE\n",
        "    IMAGE_MAX_DIM = IMAGE_SIZE    \n",
        "    IMAGE_RESIZE_MODE = 'none'\n",
        "    \n",
        "    RPN_ANCHOR_SCALES = (16, 32, 64, 128, 256)\n",
        "    \n",
        "    # STEPS_PER_EPOCH should be the number of instances \n",
        "    # divided by (GPU_COUNT*IMAGES_PER_GPU), and so should VALIDATION_STEPS;\n",
        "    # however, due to the time limit, I set them so that this kernel can be run in 9 hours\n",
        "    STEPS_PER_EPOCH = 1000\n",
        "    VALIDATION_STEPS = 200\n",
        "    \n",
        "config = Config_(bbone='resnet50')\n",
        "config.display()"
      ],
      "execution_count": 41,
      "outputs": [
        {
          "output_type": "stream",
          "text": [
            "\n",
            "Configurations:\n",
            "BACKBONE                       resnet50\n",
            "BACKBONE_STRIDES               [4, 8, 16, 32, 64]\n",
            "BATCH_SIZE                     2\n",
            "BBOX_STD_DEV                   [0.1 0.1 0.2 0.2]\n",
            "COMPUTE_BACKBONE_SHAPE         None\n",
            "DETECTION_MAX_INSTANCES        100\n",
            "DETECTION_MIN_CONFIDENCE       0.7\n",
            "DETECTION_NMS_THRESHOLD        0.3\n",
            "FPN_CLASSIF_FC_LAYERS_SIZE     1024\n",
            "GPU_COUNT                      1\n",
            "GRADIENT_CLIP_NORM             5.0\n",
            "IMAGES_PER_GPU                 2\n",
            "IMAGE_CHANNEL_COUNT            3\n",
            "IMAGE_MAX_DIM                  512\n",
            "IMAGE_META_SIZE                59\n",
            "IMAGE_MIN_DIM                  512\n",
            "IMAGE_MIN_SCALE                0\n",
            "IMAGE_RESIZE_MODE              none\n",
            "IMAGE_SHAPE                    [512 512   3]\n",
            "LEARNING_MOMENTUM              0.9\n",
            "LEARNING_RATE                  0.001\n",
            "LOSS_WEIGHTS                   {'rpn_class_loss': 1.0, 'rpn_bbox_loss': 1.0, 'mrcnn_class_loss': 1.0, 'mrcnn_bbox_loss': 1.0, 'mrcnn_mask_loss': 1.0}\n",
            "MASK_POOL_SIZE                 14\n",
            "MASK_SHAPE                     [28, 28]\n",
            "MAX_GT_INSTANCES               100\n",
            "MEAN_PIXEL                     [123.7 116.8 103.9]\n",
            "MINI_MASK_SHAPE                (56, 56)\n",
            "NAME                           fashion\n",
            "NUM_CLASSES                    47\n",
            "POOL_SIZE                      7\n",
            "POST_NMS_ROIS_INFERENCE        1000\n",
            "POST_NMS_ROIS_TRAINING         2000\n",
            "PRE_NMS_LIMIT                  6000\n",
            "ROI_POSITIVE_RATIO             0.33\n",
            "RPN_ANCHOR_RATIOS              [0.5, 1, 2]\n",
            "RPN_ANCHOR_SCALES              (16, 32, 64, 128, 256)\n",
            "RPN_ANCHOR_STRIDE              1\n",
            "RPN_BBOX_STD_DEV               [0.1 0.1 0.2 0.2]\n",
            "RPN_NMS_THRESHOLD              0.7\n",
            "RPN_TRAIN_ANCHORS_PER_IMAGE    256\n",
            "STEPS_PER_EPOCH                1000\n",
            "TOP_DOWN_PYRAMID_SIZE          256\n",
            "TRAIN_BN                       False\n",
            "TRAIN_ROIS_PER_IMAGE           200\n",
            "USE_MINI_MASK                  True\n",
            "USE_RPN_ROIS                   True\n",
            "VALIDATION_STEPS               200\n",
            "WEIGHT_DECAY                   0.0001\n",
            "\n",
            "\n"
          ],
          "name": "stdout"
        }
      ]
    },
    {
      "cell_type": "code",
      "metadata": {
        "trusted": true,
        "id": "ZRUHRWUcOy2s",
        "colab_type": "code",
        "colab": {}
      },
      "source": [
        "with open(DATA_DIR/\"label_descriptions.json\") as f:\n",
        "    label_descriptions = json.load(f)\n",
        "\n",
        "label_names = [x['name'] for x in label_descriptions['categories']]\n",
        "\n",
        "segment_df = pd.read_csv(DATA_DIR/\"train.csv\")\n",
        "segment_df['CategoryId'] = segment_df['ClassId'].str.split('_').str[0]\n",
        "\n",
        "multilabel_percent = len(segment_df[segment_df['CategoryId'].str.contains('_')])/len(segment_df)*100"
      ],
      "execution_count": 0,
      "outputs": []
    },
    {
      "cell_type": "code",
      "metadata": {
        "trusted": true,
        "id": "mngFjByVOy2v",
        "colab_type": "code",
        "outputId": "b8f7df24-7aa7-4828-efe5-dad8440ec4e7",
        "colab": {
          "base_uri": "https://localhost:8080/",
          "height": 348
        }
      },
      "source": [
        "segment_df.head(10)"
      ],
      "execution_count": 13,
      "outputs": [
        {
          "output_type": "execute_result",
          "data": {
            "text/html": [
              "<div>\n",
              "<style scoped>\n",
              "    .dataframe tbody tr th:only-of-type {\n",
              "        vertical-align: middle;\n",
              "    }\n",
              "\n",
              "    .dataframe tbody tr th {\n",
              "        vertical-align: top;\n",
              "    }\n",
              "\n",
              "    .dataframe thead th {\n",
              "        text-align: right;\n",
              "    }\n",
              "</style>\n",
              "<table border=\"1\" class=\"dataframe\">\n",
              "  <thead>\n",
              "    <tr style=\"text-align: right;\">\n",
              "      <th></th>\n",
              "      <th>ImageId</th>\n",
              "      <th>EncodedPixels</th>\n",
              "      <th>Height</th>\n",
              "      <th>Width</th>\n",
              "      <th>ClassId</th>\n",
              "      <th>CategoryId</th>\n",
              "    </tr>\n",
              "  </thead>\n",
              "  <tbody>\n",
              "    <tr>\n",
              "      <th>0</th>\n",
              "      <td>00000663ed1ff0c4e0132b9b9ac53f6e.jpg</td>\n",
              "      <td>6068157 7 6073371 20 6078584 34 6083797 48 608...</td>\n",
              "      <td>5214</td>\n",
              "      <td>3676</td>\n",
              "      <td>6</td>\n",
              "      <td>6</td>\n",
              "    </tr>\n",
              "    <tr>\n",
              "      <th>1</th>\n",
              "      <td>00000663ed1ff0c4e0132b9b9ac53f6e.jpg</td>\n",
              "      <td>6323163 11 6328356 32 6333549 53 6338742 75 63...</td>\n",
              "      <td>5214</td>\n",
              "      <td>3676</td>\n",
              "      <td>0</td>\n",
              "      <td>0</td>\n",
              "    </tr>\n",
              "    <tr>\n",
              "      <th>2</th>\n",
              "      <td>00000663ed1ff0c4e0132b9b9ac53f6e.jpg</td>\n",
              "      <td>8521389 10 8526585 30 8531789 42 8537002 46 85...</td>\n",
              "      <td>5214</td>\n",
              "      <td>3676</td>\n",
              "      <td>28</td>\n",
              "      <td>28</td>\n",
              "    </tr>\n",
              "    <tr>\n",
              "      <th>3</th>\n",
              "      <td>00000663ed1ff0c4e0132b9b9ac53f6e.jpg</td>\n",
              "      <td>12903854 2 12909064 7 12914275 10 12919485 15 ...</td>\n",
              "      <td>5214</td>\n",
              "      <td>3676</td>\n",
              "      <td>31</td>\n",
              "      <td>31</td>\n",
              "    </tr>\n",
              "    <tr>\n",
              "      <th>4</th>\n",
              "      <td>00000663ed1ff0c4e0132b9b9ac53f6e.jpg</td>\n",
              "      <td>10837337 5 10842542 14 10847746 24 10852951 33...</td>\n",
              "      <td>5214</td>\n",
              "      <td>3676</td>\n",
              "      <td>32</td>\n",
              "      <td>32</td>\n",
              "    </tr>\n",
              "    <tr>\n",
              "      <th>5</th>\n",
              "      <td>00000663ed1ff0c4e0132b9b9ac53f6e.jpg</td>\n",
              "      <td>11464158 10 11469372 30 11474586 43 11479800 4...</td>\n",
              "      <td>5214</td>\n",
              "      <td>3676</td>\n",
              "      <td>32</td>\n",
              "      <td>32</td>\n",
              "    </tr>\n",
              "    <tr>\n",
              "      <th>6</th>\n",
              "      <td>00000663ed1ff0c4e0132b9b9ac53f6e.jpg</td>\n",
              "      <td>5910568 31 5915775 65 5920982 69 5926189 73 59...</td>\n",
              "      <td>5214</td>\n",
              "      <td>3676</td>\n",
              "      <td>31</td>\n",
              "      <td>31</td>\n",
              "    </tr>\n",
              "    <tr>\n",
              "      <th>7</th>\n",
              "      <td>00000663ed1ff0c4e0132b9b9ac53f6e.jpg</td>\n",
              "      <td>6421446 292 6426657 298 6431867 305 6437078 31...</td>\n",
              "      <td>5214</td>\n",
              "      <td>3676</td>\n",
              "      <td>29</td>\n",
              "      <td>29</td>\n",
              "    </tr>\n",
              "    <tr>\n",
              "      <th>8</th>\n",
              "      <td>00000663ed1ff0c4e0132b9b9ac53f6e.jpg</td>\n",
              "      <td>4566382 8 4571592 25 4576803 41 4582013 58 458...</td>\n",
              "      <td>5214</td>\n",
              "      <td>3676</td>\n",
              "      <td>4</td>\n",
              "      <td>4</td>\n",
              "    </tr>\n",
              "    <tr>\n",
              "      <th>9</th>\n",
              "      <td>0000fe7c9191fba733c8a69cfaf962b7.jpg</td>\n",
              "      <td>2201176 1 2203623 3 2206071 5 2208518 8 221096...</td>\n",
              "      <td>2448</td>\n",
              "      <td>2448</td>\n",
              "      <td>33</td>\n",
              "      <td>33</td>\n",
              "    </tr>\n",
              "  </tbody>\n",
              "</table>\n",
              "</div>"
            ],
            "text/plain": [
              "                                ImageId  ... CategoryId\n",
              "0  00000663ed1ff0c4e0132b9b9ac53f6e.jpg  ...          6\n",
              "1  00000663ed1ff0c4e0132b9b9ac53f6e.jpg  ...          0\n",
              "2  00000663ed1ff0c4e0132b9b9ac53f6e.jpg  ...         28\n",
              "3  00000663ed1ff0c4e0132b9b9ac53f6e.jpg  ...         31\n",
              "4  00000663ed1ff0c4e0132b9b9ac53f6e.jpg  ...         32\n",
              "5  00000663ed1ff0c4e0132b9b9ac53f6e.jpg  ...         32\n",
              "6  00000663ed1ff0c4e0132b9b9ac53f6e.jpg  ...         31\n",
              "7  00000663ed1ff0c4e0132b9b9ac53f6e.jpg  ...         29\n",
              "8  00000663ed1ff0c4e0132b9b9ac53f6e.jpg  ...          4\n",
              "9  0000fe7c9191fba733c8a69cfaf962b7.jpg  ...         33\n",
              "\n",
              "[10 rows x 6 columns]"
            ]
          },
          "metadata": {
            "tags": []
          },
          "execution_count": 13
        }
      ]
    },
    {
      "cell_type": "code",
      "metadata": {
        "id": "NmEl4swAmmr4",
        "colab_type": "code",
        "colab": {}
      },
      "source": [
        "segment_df = segment_df[segment_df['ImageId'].isin(fn)]"
      ],
      "execution_count": 0,
      "outputs": []
    },
    {
      "cell_type": "code",
      "metadata": {
        "trusted": true,
        "id": "SAHp_xnFOy2x",
        "colab_type": "code",
        "outputId": "0396e73f-4a1a-481f-b7a4-ecbd76740a01",
        "colab": {
          "base_uri": "https://localhost:8080/",
          "height": 315
        }
      },
      "source": [
        "image_df = segment_df.groupby('ImageId')['EncodedPixels', 'CategoryId'].agg(lambda x: list(x))\n",
        "size_df = segment_df.groupby('ImageId')['Height', 'Width'].mean()\n",
        "image_df = image_df.join(size_df, on='ImageId')\n",
        "\n",
        "print(\"Total images: \", len(image_df))\n",
        "image_df.head()"
      ],
      "execution_count": 15,
      "outputs": [
        {
          "output_type": "stream",
          "text": [
            "Total images:  19\n"
          ],
          "name": "stdout"
        },
        {
          "output_type": "execute_result",
          "data": {
            "text/html": [
              "<div>\n",
              "<style scoped>\n",
              "    .dataframe tbody tr th:only-of-type {\n",
              "        vertical-align: middle;\n",
              "    }\n",
              "\n",
              "    .dataframe tbody tr th {\n",
              "        vertical-align: top;\n",
              "    }\n",
              "\n",
              "    .dataframe thead th {\n",
              "        text-align: right;\n",
              "    }\n",
              "</style>\n",
              "<table border=\"1\" class=\"dataframe\">\n",
              "  <thead>\n",
              "    <tr style=\"text-align: right;\">\n",
              "      <th></th>\n",
              "      <th>EncodedPixels</th>\n",
              "      <th>CategoryId</th>\n",
              "      <th>Height</th>\n",
              "      <th>Width</th>\n",
              "    </tr>\n",
              "    <tr>\n",
              "      <th>ImageId</th>\n",
              "      <th></th>\n",
              "      <th></th>\n",
              "      <th></th>\n",
              "      <th></th>\n",
              "    </tr>\n",
              "  </thead>\n",
              "  <tbody>\n",
              "    <tr>\n",
              "      <th>00000663ed1ff0c4e0132b9b9ac53f6e.jpg</th>\n",
              "      <td>[6068157 7 6073371 20 6078584 34 6083797 48 60...</td>\n",
              "      <td>[6, 0, 28, 31, 32, 32, 31, 29, 4]</td>\n",
              "      <td>5214</td>\n",
              "      <td>3676</td>\n",
              "    </tr>\n",
              "    <tr>\n",
              "      <th>0000fe7c9191fba733c8a69cfaf962b7.jpg</th>\n",
              "      <td>[2201176 1 2203623 3 2206071 5 2208518 8 22109...</td>\n",
              "      <td>[33, 1]</td>\n",
              "      <td>2448</td>\n",
              "      <td>2448</td>\n",
              "    </tr>\n",
              "    <tr>\n",
              "      <th>0002ec21ddb8477e98b2cbb87ea2e269.jpg</th>\n",
              "      <td>[2673735 2 2676734 8 2679734 13 2682733 19 268...</td>\n",
              "      <td>[33, 10, 23, 23]</td>\n",
              "      <td>3000</td>\n",
              "      <td>1997</td>\n",
              "    </tr>\n",
              "    <tr>\n",
              "      <th>0002f5a0ebc162ecfb73e2c91e3b8f62.jpg</th>\n",
              "      <td>[435 132 1002 132 1569 132 2136 132 2703 132 3...</td>\n",
              "      <td>[10, 33, 15]</td>\n",
              "      <td>567</td>\n",
              "      <td>400</td>\n",
              "    </tr>\n",
              "    <tr>\n",
              "      <th>0004467156e47b0eb6de4aa6479cbd15.jpg</th>\n",
              "      <td>[132663 8 133396 25 134130 41 134868 53 135611...</td>\n",
              "      <td>[10, 33, 31, 31, 15]</td>\n",
              "      <td>750</td>\n",
              "      <td>500</td>\n",
              "    </tr>\n",
              "  </tbody>\n",
              "</table>\n",
              "</div>"
            ],
            "text/plain": [
              "                                                                          EncodedPixels  ... Width\n",
              "ImageId                                                                                  ...      \n",
              "00000663ed1ff0c4e0132b9b9ac53f6e.jpg  [6068157 7 6073371 20 6078584 34 6083797 48 60...  ...  3676\n",
              "0000fe7c9191fba733c8a69cfaf962b7.jpg  [2201176 1 2203623 3 2206071 5 2208518 8 22109...  ...  2448\n",
              "0002ec21ddb8477e98b2cbb87ea2e269.jpg  [2673735 2 2676734 8 2679734 13 2682733 19 268...  ...  1997\n",
              "0002f5a0ebc162ecfb73e2c91e3b8f62.jpg  [435 132 1002 132 1569 132 2136 132 2703 132 3...  ...   400\n",
              "0004467156e47b0eb6de4aa6479cbd15.jpg  [132663 8 133396 25 134130 41 134868 53 135611...  ...   500\n",
              "\n",
              "[5 rows x 4 columns]"
            ]
          },
          "metadata": {
            "tags": []
          },
          "execution_count": 15
        }
      ]
    },
    {
      "cell_type": "code",
      "metadata": {
        "trusted": true,
        "id": "csn1Z5pHOy20",
        "colab_type": "code",
        "colab": {}
      },
      "source": [
        "def resize_image(image_path):\n",
        "    img = cv2.imread(image_path)\n",
        "    img = cv2.cvtColor(img, cv2.COLOR_BGR2RGB)\n",
        "    img = cv2.resize(img, (IMAGE_SIZE, IMAGE_SIZE), interpolation=cv2.INTER_AREA)  \n",
        "    return img"
      ],
      "execution_count": 0,
      "outputs": []
    },
    {
      "cell_type": "markdown",
      "metadata": {
        "id": "4rwCQl2cOy22",
        "colab_type": "text"
      },
      "source": [
        "Утилиты для работы с датасетом. Прогрузка каждого изображения, маски для сегментации и пр."
      ]
    },
    {
      "cell_type": "code",
      "metadata": {
        "trusted": true,
        "id": "RZe2G2kgOy23",
        "colab_type": "code",
        "colab": {}
      },
      "source": [
        "class Dataset(utils.Dataset):\n",
        "\n",
        "    def __init__(self, df):\n",
        "        super().__init__(self)\n",
        "        \n",
        "        # Add classes\n",
        "        for i, name in enumerate(label_names):\n",
        "            self.add_class(\"fashion\", i+1, name)\n",
        "        \n",
        "        # Add images \n",
        "        for i, row in df.iterrows():\n",
        "            self.add_image(\"fashion\", \n",
        "                           image_id=row.name, \n",
        "                           path=str(DATA_DIR/row.name), \n",
        "                           labels=row['CategoryId'],\n",
        "                           annotations=row['EncodedPixels'], \n",
        "                           height=row['Height'], width=row['Width'])\n",
        "\n",
        "    def image_reference(self, image_id):\n",
        "        info = self.image_info[image_id]\n",
        "        return info['path'], [label_names[int(x)] for x in info['labels']]\n",
        "    \n",
        "    def load_image(self, image_id):\n",
        "        return resize_image(self.image_info[image_id]['path'])\n",
        "\n",
        "    def load_mask(self, image_id):\n",
        "        info = self.image_info[image_id]\n",
        "                \n",
        "        mask = np.zeros((IMAGE_SIZE, IMAGE_SIZE, len(info['annotations'])), dtype=np.uint8)\n",
        "        labels = []\n",
        "        \n",
        "        for m, (annotation, label) in enumerate(zip(info['annotations'], info['labels'])):\n",
        "            sub_mask = np.full(info['height']*info['width'], 0, dtype=np.uint8)\n",
        "            annotation = [int(x) for x in annotation.split(' ')]\n",
        "            \n",
        "            for i, start_pixel in enumerate(annotation[::2]):\n",
        "                sub_mask[start_pixel: start_pixel+annotation[2*i+1]] = 1\n",
        "\n",
        "            sub_mask = sub_mask.reshape((info['height'], info['width']), order='F')\n",
        "            sub_mask = cv2.resize(sub_mask, (IMAGE_SIZE, IMAGE_SIZE), interpolation=cv2.INTER_NEAREST)\n",
        "            \n",
        "            mask[:, :, m] = sub_mask\n",
        "            labels.append(int(label)+1)\n",
        "            \n",
        "        return mask, np.array(labels)"
      ],
      "execution_count": 0,
      "outputs": []
    },
    {
      "cell_type": "code",
      "metadata": {
        "trusted": true,
        "id": "OuKglQK0Oy29",
        "colab_type": "code",
        "outputId": "7ef348cd-03f6-4591-b749-e4a01dae0d36",
        "colab": {
          "base_uri": "https://localhost:8080/",
          "height": 205
        }
      },
      "source": [
        "dataset = Dataset(image_df)\n",
        "dataset.prepare()\n",
        "\n",
        "\n",
        "image_id = random.choice(dataset.image_ids)\n",
        "print(dataset.image_reference(image_id))\n",
        "    \n",
        "image = dataset.load_image(image_id)\n",
        "mask, class_ids = dataset.load_mask(image_id)\n",
        "visualize.display_top_masks(image, mask, class_ids, dataset.class_names, limit=4)"
      ],
      "execution_count": 18,
      "outputs": [
        {
          "output_type": "stream",
          "text": [
            "('/content/00048c3a2fb9c29340473c4cfc06424a.jpg', ['glasses', 'top, t-shirt, sweatshirt', 'neckline', 'skirt', 'zipper', 'bag, wallet', 'shoe', 'shoe'])\n"
          ],
          "name": "stdout"
        },
        {
          "output_type": "display_data",
          "data": {
            "image/png": "[encoded data removed]",
            "text/plain": [
              "<Figure size 1008x360 with 5 Axes>"
            ]
          },
          "metadata": {
            "tags": []
          }
        }
      ]
    },
    {
      "cell_type": "markdown",
      "metadata": {
        "id": "sMmxFwsROy3B",
        "colab_type": "text"
      },
      "source": [
        "Тут будет кроссвалидация"
      ]
    },
    {
      "cell_type": "code",
      "metadata": {
        "trusted": true,
        "id": "iPFr5dxiOy3C",
        "colab_type": "code",
        "colab": {}
      },
      "source": [
        "from sklearn.model_selection import KFold\n",
        "\n",
        "FOLD = 0\n",
        "N_FOLDS = 10\n",
        "\n",
        "kf = KFold(n_splits=N_FOLDS, random_state=42, shuffle=True)\n",
        "splits = kf.split(image_df) # ideally, this should be multilabel stratification\n",
        "\n",
        "def get_fold():    \n",
        "    for i, (train_index, valid_index) in enumerate(splits):\n",
        "        if i == FOLD:\n",
        "            return image_df.iloc[train_index], image_df.iloc[valid_index]\n",
        "        \n",
        "train_df, valid_df = get_fold()\n",
        "\n",
        "train_dataset = Dataset(train_df)\n",
        "train_dataset.prepare()\n",
        "\n",
        "valid_dataset = Dataset(valid_df)\n",
        "valid_dataset.prepare()"
      ],
      "execution_count": 0,
      "outputs": []
    },
    {
      "cell_type": "code",
      "metadata": {
        "trusted": true,
        "id": "hDzwjBxuOy3F",
        "colab_type": "code",
        "outputId": "d882a667-be8c-4195-ea4b-5a618bada91f",
        "colab": {
          "base_uri": "https://localhost:8080/",
          "height": 775
        }
      },
      "source": [
        "train_segments = np.concatenate(train_df['CategoryId'].values)\n",
        "print(\"Total train images: \", len(train_df))\n",
        "print(\"Total train segments: \", len(train_segments))\n",
        "\n",
        "plt.figure(figsize=(12, 3))\n",
        "values, counts = np.unique(train_segments, return_counts=True)\n",
        "plt.bar(values, counts)\n",
        "plt.xticks(values, label_names, rotation='vertical')\n",
        "plt.show()\n",
        "\n",
        "valid_segments = np.concatenate(valid_df['CategoryId'].values).astype(int)\n",
        "print(\"Total validation images: \", len(valid_df))\n",
        "print(\"Total validation segments: \", len(valid_segments))\n",
        "\n",
        "plt.figure(figsize=(12, 3))\n",
        "values, counts = np.unique(valid_segments, return_counts=True)\n",
        "plt.bar(values, counts)\n",
        "plt.xticks(values, label_names, rotation='vertical')\n",
        "plt.show()"
      ],
      "execution_count": 35,
      "outputs": [
        {
          "output_type": "stream",
          "text": [
            "Total train images:  17\n",
            "Total train segments:  100\n"
          ],
          "name": "stdout"
        },
        {
          "output_type": "display_data",
          "data": {
            "image/png": "[encoded data removed]",
            "text/plain": [
              "<Figure size 864x216 with 1 Axes>"
            ]
          },
          "metadata": {
            "tags": []
          }
        },
        {
          "output_type": "stream",
          "text": [
            "Total validation images:  2\n",
            "Total validation segments:  17\n"
          ],
          "name": "stdout"
        },
        {
          "output_type": "display_data",
          "data": {
            "image/png": "[encoded data removed]",
            "text/plain": [
              "<Figure size 864x216 with 1 Axes>"
            ]
          },
          "metadata": {
            "tags": []
          }
        }
      ]
    },
    {
      "cell_type": "code",
      "metadata": {
        "trusted": true,
        "id": "j8VUJz8qOy3J",
        "colab_type": "code",
        "colab": {}
      },
      "source": [
        "LR = 1e-3\n",
        "EPOCHS = [2, 6, 8]"
      ],
      "execution_count": 0,
      "outputs": []
    },
    {
      "cell_type": "markdown",
      "metadata": {
        "id": "4C5myECmOy3N",
        "colab_type": "text"
      },
      "source": [
        "Обучаем первую сетку (резнет 50). Выбираем наилучшие показатели, чтобы откатиться потом к тем наборам весов"
      ]
    },
    {
      "cell_type": "code",
      "metadata": {
        "trusted": true,
        "id": "KWmRHzrxOy3N",
        "colab_type": "code",
        "outputId": "037a9161-eeea-47d4-cb34-253ce20ba83c",
        "colab": {
          "base_uri": "https://localhost:8080/",
          "height": 655
        }
      },
      "source": [
        "model_1 = modellib.MaskRCNN(mode='training', config=config, model_dir=ROOT_DIR)\n",
        "\n",
        "model_1.load_weights(COCO_WEIGHTS_PATH, by_name=True, exclude=[\n",
        "    'mrcnn_class_logits', 'mrcnn_bbox_fc', 'mrcnn_bbox', 'mrcnn_mask'])"
      ],
      "execution_count": 22,
      "outputs": [
        {
          "output_type": "stream",
          "text": [
            "WARNING:tensorflow:From /usr/local/lib/python3.6/dist-packages/keras/backend/tensorflow_backend.py:541: The name tf.placeholder is deprecated. Please use tf.compat.v1.placeholder instead.\n",
            "\n",
            "WARNING:tensorflow:From /usr/local/lib/python3.6/dist-packages/keras/backend/tensorflow_backend.py:66: The name tf.get_default_graph is deprecated. Please use tf.compat.v1.get_default_graph instead.\n",
            "\n",
            "WARNING:tensorflow:From /usr/local/lib/python3.6/dist-packages/keras/backend/tensorflow_backend.py:4432: The name tf.random_uniform is deprecated. Please use tf.random.uniform instead.\n",
            "\n",
            "WARNING:tensorflow:From /usr/local/lib/python3.6/dist-packages/keras/backend/tensorflow_backend.py:2139: The name tf.nn.fused_batch_norm is deprecated. Please use tf.compat.v1.nn.fused_batch_norm instead.\n",
            "\n",
            "WARNING:tensorflow:From /usr/local/lib/python3.6/dist-packages/keras/backend/tensorflow_backend.py:4267: The name tf.nn.max_pool is deprecated. Please use tf.nn.max_pool2d instead.\n",
            "\n",
            "WARNING:tensorflow:From /usr/local/lib/python3.6/dist-packages/keras/backend/tensorflow_backend.py:2239: The name tf.image.resize_nearest_neighbor is deprecated. Please use tf.compat.v1.image.resize_nearest_neighbor instead.\n",
            "\n",
            "WARNING:tensorflow:From /usr/local/lib/python3.6/dist-packages/tensorflow_core/python/ops/array_ops.py:1475: where (from tensorflow.python.ops.array_ops) is deprecated and will be removed in a future version.\n",
            "Instructions for updating:\n",
            "Use tf.where in 2.0, which has the same broadcast rule as np.where\n",
            "WARNING:tensorflow:From /content/Mask_RCNN/mrcnn/model.py:553: The name tf.random_shuffle is deprecated. Please use tf.random.shuffle instead.\n",
            "\n",
            "WARNING:tensorflow:From /content/Mask_RCNN/mrcnn/utils.py:202: The name tf.log is deprecated. Please use tf.math.log instead.\n",
            "\n",
            "WARNING:tensorflow:From /content/Mask_RCNN/mrcnn/model.py:600: calling crop_and_resize_v1 (from tensorflow.python.ops.image_ops_impl) with box_ind is deprecated and will be removed in a future version.\n",
            "Instructions for updating:\n",
            "box_ind is deprecated, use box_indices instead\n",
            "WARNING:tensorflow:From /usr/local/lib/python3.6/dist-packages/keras/backend/tensorflow_backend.py:190: The name tf.get_default_session is deprecated. Please use tf.compat.v1.get_default_session instead.\n",
            "\n",
            "WARNING:tensorflow:From /usr/local/lib/python3.6/dist-packages/keras/backend/tensorflow_backend.py:197: The name tf.ConfigProto is deprecated. Please use tf.compat.v1.ConfigProto instead.\n",
            "\n",
            "WARNING:tensorflow:From /usr/local/lib/python3.6/dist-packages/keras/backend/tensorflow_backend.py:203: The name tf.Session is deprecated. Please use tf.compat.v1.Session instead.\n",
            "\n",
            "WARNING:tensorflow:From /usr/local/lib/python3.6/dist-packages/keras/backend/tensorflow_backend.py:207: The name tf.global_variables is deprecated. Please use tf.compat.v1.global_variables instead.\n",
            "\n",
            "WARNING:tensorflow:From /usr/local/lib/python3.6/dist-packages/keras/backend/tensorflow_backend.py:216: The name tf.is_variable_initialized is deprecated. Please use tf.compat.v1.is_variable_initialized instead.\n",
            "\n",
            "WARNING:tensorflow:From /usr/local/lib/python3.6/dist-packages/keras/backend/tensorflow_backend.py:223: The name tf.variables_initializer is deprecated. Please use tf.compat.v1.variables_initializer instead.\n",
            "\n"
          ],
          "name": "stdout"
        }
      ]
    },
    {
      "cell_type": "code",
      "metadata": {
        "trusted": true,
        "id": "9ivKMRQpOy3Q",
        "colab_type": "code",
        "colab": {}
      },
      "source": [
        "augmentation = iaa.Sequential([\n",
        "    iaa.Fliplr(0.5) \n",
        "])"
      ],
      "execution_count": 0,
      "outputs": []
    },
    {
      "cell_type": "code",
      "metadata": {
        "trusted": true,
        "id": "i6soliWpOy3T",
        "colab_type": "code",
        "outputId": "9bbf05b9-4f30-4643-8e1a-0c7f83adf74d",
        "colab": {
          "base_uri": "https://localhost:8080/",
          "height": 1000
        }
      },
      "source": [
        "model_1.train(train_dataset, valid_dataset,\n",
        "            learning_rate=LR*2, # train heads with higher lr to speedup learning\n",
        "            epochs=EPOCHS[0],\n",
        "            layers='heads',\n",
        "            augmentation=None)\n",
        "\n",
        "history = model_1.keras_model.history.history"
      ],
      "execution_count": 24,
      "outputs": [
        {
          "output_type": "stream",
          "text": [
            "\n",
            "Starting at epoch 0. LR=0.002\n",
            "\n",
            "Checkpoint Path: /kaggle/working/fashion20191222T1029/mask_rcnn_fashion_{epoch:04d}.h5\n",
            "Selecting layers to train\n",
            "fpn_c5p5               (Conv2D)\n",
            "fpn_c4p4               (Conv2D)\n",
            "fpn_c3p3               (Conv2D)\n",
            "fpn_c2p2               (Conv2D)\n",
            "fpn_p5                 (Conv2D)\n",
            "fpn_p2                 (Conv2D)\n",
            "fpn_p3                 (Conv2D)\n",
            "fpn_p4                 (Conv2D)\n",
            "In model:  rpn_model\n",
            "    rpn_conv_shared        (Conv2D)\n",
            "    rpn_class_raw          (Conv2D)\n",
            "    rpn_bbox_pred          (Conv2D)\n",
            "mrcnn_mask_conv1       (TimeDistributed)\n",
            "mrcnn_mask_bn1         (TimeDistributed)\n",
            "mrcnn_mask_conv2       (TimeDistributed)\n",
            "mrcnn_mask_bn2         (TimeDistributed)\n",
            "mrcnn_class_conv1      (TimeDistributed)\n",
            "mrcnn_class_bn1        (TimeDistributed)\n",
            "mrcnn_mask_conv3       (TimeDistributed)\n",
            "mrcnn_mask_bn3         (TimeDistributed)\n",
            "mrcnn_class_conv2      (TimeDistributed)\n",
            "mrcnn_class_bn2        (TimeDistributed)\n",
            "mrcnn_mask_conv4       (TimeDistributed)\n",
            "mrcnn_mask_bn4         (TimeDistributed)\n",
            "mrcnn_bbox_fc          (TimeDistributed)\n",
            "mrcnn_mask_deconv      (TimeDistributed)\n",
            "mrcnn_class_logits     (TimeDistributed)\n",
            "mrcnn_mask             (TimeDistributed)\n",
            "WARNING:tensorflow:From /usr/local/lib/python3.6/dist-packages/keras/optimizers.py:793: The name tf.train.Optimizer is deprecated. Please use tf.compat.v1.train.Optimizer instead.\n",
            "\n"
          ],
          "name": "stdout"
        },
        {
          "output_type": "stream",
          "text": [
            "/usr/local/lib/python3.6/dist-packages/tensorflow_core/python/framework/indexed_slices.py:424: UserWarning: Converting sparse IndexedSlices to a dense Tensor of unknown shape. This may consume a large amount of memory.\n",
            "  \"Converting sparse IndexedSlices to a dense Tensor of unknown shape. \"\n",
            "/usr/local/lib/python3.6/dist-packages/tensorflow_core/python/framework/indexed_slices.py:424: UserWarning: Converting sparse IndexedSlices to a dense Tensor of unknown shape. This may consume a large amount of memory.\n",
            "  \"Converting sparse IndexedSlices to a dense Tensor of unknown shape. \"\n",
            "/usr/local/lib/python3.6/dist-packages/tensorflow_core/python/framework/indexed_slices.py:424: UserWarning: Converting sparse IndexedSlices to a dense Tensor of unknown shape. This may consume a large amount of memory.\n",
            "  \"Converting sparse IndexedSlices to a dense Tensor of unknown shape. \"\n"
          ],
          "name": "stderr"
        },
        {
          "output_type": "stream",
          "text": [
            "WARNING:tensorflow:From /usr/local/lib/python3.6/dist-packages/keras/backend/tensorflow_backend.py:1033: The name tf.assign_add is deprecated. Please use tf.compat.v1.assign_add instead.\n",
            "\n",
            "WARNING:tensorflow:From /usr/local/lib/python3.6/dist-packages/keras/backend/tensorflow_backend.py:1020: The name tf.assign is deprecated. Please use tf.compat.v1.assign instead.\n",
            "\n"
          ],
          "name": "stdout"
        },
        {
          "output_type": "stream",
          "text": [
            "/usr/local/lib/python3.6/dist-packages/keras/engine/training_generator.py:49: UserWarning: Using a generator with `use_multiprocessing=True` and multiple workers may duplicate your data. Please consider using the `keras.utils.Sequence class.\n",
            "  UserWarning('Using a generator with `use_multiprocessing=True`'\n"
          ],
          "name": "stderr"
        },
        {
          "output_type": "stream",
          "text": [
            "WARNING:tensorflow:From /usr/local/lib/python3.6/dist-packages/keras/callbacks.py:1122: The name tf.summary.merge_all is deprecated. Please use tf.compat.v1.summary.merge_all instead.\n",
            "\n",
            "WARNING:tensorflow:From /usr/local/lib/python3.6/dist-packages/keras/callbacks.py:1125: The name tf.summary.FileWriter is deprecated. Please use tf.compat.v1.summary.FileWriter instead.\n",
            "\n",
            "Epoch 1/2\n",
            "1000/1000 [==============================] - 901s 901ms/step - loss: 0.6381 - rpn_class_loss: 0.0168 - rpn_bbox_loss: 0.1222 - mrcnn_class_loss: 0.1170 - mrcnn_bbox_loss: 0.1578 - mrcnn_mask_loss: 0.2243 - val_loss: 8.7575 - val_rpn_class_loss: 0.4237 - val_rpn_bbox_loss: 5.4924 - val_mrcnn_class_loss: 1.3091 - val_mrcnn_bbox_loss: 0.4793 - val_mrcnn_mask_loss: 1.0530\n",
            "WARNING:tensorflow:From /usr/local/lib/python3.6/dist-packages/keras/callbacks.py:1265: The name tf.Summary is deprecated. Please use tf.compat.v1.Summary instead.\n",
            "\n",
            "Epoch 2/2\n",
            "1000/1000 [==============================] - 776s 776ms/step - loss: 0.1671 - rpn_class_loss: 0.0036 - rpn_bbox_loss: 0.0152 - mrcnn_class_loss: 0.0299 - mrcnn_bbox_loss: 0.0277 - mrcnn_mask_loss: 0.0906 - val_loss: 9.5918 - val_rpn_class_loss: 0.5096 - val_rpn_bbox_loss: 6.1995 - val_mrcnn_class_loss: 1.5481 - val_mrcnn_bbox_loss: 0.4990 - val_mrcnn_mask_loss: 0.8356\n"
          ],
          "name": "stdout"
        }
      ]
    },
    {
      "cell_type": "code",
      "metadata": {
        "trusted": true,
        "id": "AUi67ujfOy3Z",
        "colab_type": "code",
        "outputId": "bc55eabb-1700-4414-a78c-d403a7933506",
        "colab": {
          "base_uri": "https://localhost:8080/",
          "height": 1000
        }
      },
      "source": [
        "model_1.train(train_dataset, valid_dataset,\n",
        "            learning_rate=LR,\n",
        "            epochs=EPOCHS[1],\n",
        "            layers='all',\n",
        "            augmentation=augmentation)\n",
        "\n",
        "new_history = model_1.keras_model.history.history"
      ],
      "execution_count": 25,
      "outputs": [
        {
          "output_type": "stream",
          "text": [
            "\n",
            "Starting at epoch 2. LR=0.001\n",
            "\n",
            "Checkpoint Path: /kaggle/working/fashion20191222T1029/mask_rcnn_fashion_{epoch:04d}.h5\n",
            "Selecting layers to train\n",
            "conv1                  (Conv2D)\n",
            "bn_conv1               (BatchNorm)\n",
            "res2a_branch2a         (Conv2D)\n",
            "bn2a_branch2a          (BatchNorm)\n",
            "res2a_branch2b         (Conv2D)\n",
            "bn2a_branch2b          (BatchNorm)\n",
            "res2a_branch2c         (Conv2D)\n",
            "res2a_branch1          (Conv2D)\n",
            "bn2a_branch2c          (BatchNorm)\n",
            "bn2a_branch1           (BatchNorm)\n",
            "res2b_branch2a         (Conv2D)\n",
            "bn2b_branch2a          (BatchNorm)\n",
            "res2b_branch2b         (Conv2D)\n",
            "bn2b_branch2b          (BatchNorm)\n",
            "res2b_branch2c         (Conv2D)\n",
            "bn2b_branch2c          (BatchNorm)\n",
            "res2c_branch2a         (Conv2D)\n",
            "bn2c_branch2a          (BatchNorm)\n",
            "res2c_branch2b         (Conv2D)\n",
            "bn2c_branch2b          (BatchNorm)\n",
            "res2c_branch2c         (Conv2D)\n",
            "bn2c_branch2c          (BatchNorm)\n",
            "res3a_branch2a         (Conv2D)\n",
            "bn3a_branch2a          (BatchNorm)\n",
            "res3a_branch2b         (Conv2D)\n",
            "bn3a_branch2b          (BatchNorm)\n",
            "res3a_branch2c         (Conv2D)\n",
            "res3a_branch1          (Conv2D)\n",
            "bn3a_branch2c          (BatchNorm)\n",
            "bn3a_branch1           (BatchNorm)\n",
            "res3b_branch2a         (Conv2D)\n",
            "bn3b_branch2a          (BatchNorm)\n",
            "res3b_branch2b         (Conv2D)\n",
            "bn3b_branch2b          (BatchNorm)\n",
            "res3b_branch2c         (Conv2D)\n",
            "bn3b_branch2c          (BatchNorm)\n",
            "res3c_branch2a         (Conv2D)\n",
            "bn3c_branch2a          (BatchNorm)\n",
            "res3c_branch2b         (Conv2D)\n",
            "bn3c_branch2b          (BatchNorm)\n",
            "res3c_branch2c         (Conv2D)\n",
            "bn3c_branch2c          (BatchNorm)\n",
            "res3d_branch2a         (Conv2D)\n",
            "bn3d_branch2a          (BatchNorm)\n",
            "res3d_branch2b         (Conv2D)\n",
            "bn3d_branch2b          (BatchNorm)\n",
            "res3d_branch2c         (Conv2D)\n",
            "bn3d_branch2c          (BatchNorm)\n",
            "res4a_branch2a         (Conv2D)\n",
            "bn4a_branch2a          (BatchNorm)\n",
            "res4a_branch2b         (Conv2D)\n",
            "bn4a_branch2b          (BatchNorm)\n",
            "res4a_branch2c         (Conv2D)\n",
            "res4a_branch1          (Conv2D)\n",
            "bn4a_branch2c          (BatchNorm)\n",
            "bn4a_branch1           (BatchNorm)\n",
            "res4b_branch2a         (Conv2D)\n",
            "bn4b_branch2a          (BatchNorm)\n",
            "res4b_branch2b         (Conv2D)\n",
            "bn4b_branch2b          (BatchNorm)\n",
            "res4b_branch2c         (Conv2D)\n",
            "bn4b_branch2c          (BatchNorm)\n",
            "res4c_branch2a         (Conv2D)\n",
            "bn4c_branch2a          (BatchNorm)\n",
            "res4c_branch2b         (Conv2D)\n",
            "bn4c_branch2b          (BatchNorm)\n",
            "res4c_branch2c         (Conv2D)\n",
            "bn4c_branch2c          (BatchNorm)\n",
            "res4d_branch2a         (Conv2D)\n",
            "bn4d_branch2a          (BatchNorm)\n",
            "res4d_branch2b         (Conv2D)\n",
            "bn4d_branch2b          (BatchNorm)\n",
            "res4d_branch2c         (Conv2D)\n",
            "bn4d_branch2c          (BatchNorm)\n",
            "res4e_branch2a         (Conv2D)\n",
            "bn4e_branch2a          (BatchNorm)\n",
            "res4e_branch2b         (Conv2D)\n",
            "bn4e_branch2b          (BatchNorm)\n",
            "res4e_branch2c         (Conv2D)\n",
            "bn4e_branch2c          (BatchNorm)\n",
            "res4f_branch2a         (Conv2D)\n",
            "bn4f_branch2a          (BatchNorm)\n",
            "res4f_branch2b         (Conv2D)\n",
            "bn4f_branch2b          (BatchNorm)\n",
            "res4f_branch2c         (Conv2D)\n",
            "bn4f_branch2c          (BatchNorm)\n",
            "res5a_branch2a         (Conv2D)\n",
            "bn5a_branch2a          (BatchNorm)\n",
            "res5a_branch2b         (Conv2D)\n",
            "bn5a_branch2b          (BatchNorm)\n",
            "res5a_branch2c         (Conv2D)\n",
            "res5a_branch1          (Conv2D)\n",
            "bn5a_branch2c          (BatchNorm)\n",
            "bn5a_branch1           (BatchNorm)\n",
            "res5b_branch2a         (Conv2D)\n",
            "bn5b_branch2a          (BatchNorm)\n",
            "res5b_branch2b         (Conv2D)\n",
            "bn5b_branch2b          (BatchNorm)\n",
            "res5b_branch2c         (Conv2D)\n",
            "bn5b_branch2c          (BatchNorm)\n",
            "res5c_branch2a         (Conv2D)\n",
            "bn5c_branch2a          (BatchNorm)\n",
            "res5c_branch2b         (Conv2D)\n",
            "bn5c_branch2b          (BatchNorm)\n",
            "res5c_branch2c         (Conv2D)\n",
            "bn5c_branch2c          (BatchNorm)\n",
            "fpn_c5p5               (Conv2D)\n",
            "fpn_c4p4               (Conv2D)\n",
            "fpn_c3p3               (Conv2D)\n",
            "fpn_c2p2               (Conv2D)\n",
            "fpn_p5                 (Conv2D)\n",
            "fpn_p2                 (Conv2D)\n",
            "fpn_p3                 (Conv2D)\n",
            "fpn_p4                 (Conv2D)\n",
            "In model:  rpn_model\n",
            "    rpn_conv_shared        (Conv2D)\n",
            "    rpn_class_raw          (Conv2D)\n",
            "    rpn_bbox_pred          (Conv2D)\n",
            "mrcnn_mask_conv1       (TimeDistributed)\n",
            "mrcnn_mask_bn1         (TimeDistributed)\n",
            "mrcnn_mask_conv2       (TimeDistributed)\n",
            "mrcnn_mask_bn2         (TimeDistributed)\n",
            "mrcnn_class_conv1      (TimeDistributed)\n",
            "mrcnn_class_bn1        (TimeDistributed)\n",
            "mrcnn_mask_conv3       (TimeDistributed)\n",
            "mrcnn_mask_bn3         (TimeDistributed)\n",
            "mrcnn_class_conv2      (TimeDistributed)\n",
            "mrcnn_class_bn2        (TimeDistributed)\n",
            "mrcnn_mask_conv4       (TimeDistributed)\n",
            "mrcnn_mask_bn4         (TimeDistributed)\n",
            "mrcnn_bbox_fc          (TimeDistributed)\n",
            "mrcnn_mask_deconv      (TimeDistributed)\n",
            "mrcnn_class_logits     (TimeDistributed)\n",
            "mrcnn_mask             (TimeDistributed)\n"
          ],
          "name": "stdout"
        },
        {
          "output_type": "stream",
          "text": [
            "/usr/local/lib/python3.6/dist-packages/tensorflow_core/python/framework/indexed_slices.py:424: UserWarning: Converting sparse IndexedSlices to a dense Tensor of unknown shape. This may consume a large amount of memory.\n",
            "  \"Converting sparse IndexedSlices to a dense Tensor of unknown shape. \"\n",
            "/usr/local/lib/python3.6/dist-packages/tensorflow_core/python/framework/indexed_slices.py:424: UserWarning: Converting sparse IndexedSlices to a dense Tensor of unknown shape. This may consume a large amount of memory.\n",
            "  \"Converting sparse IndexedSlices to a dense Tensor of unknown shape. \"\n",
            "/usr/local/lib/python3.6/dist-packages/tensorflow_core/python/framework/indexed_slices.py:424: UserWarning: Converting sparse IndexedSlices to a dense Tensor of unknown shape. This may consume a large amount of memory.\n",
            "  \"Converting sparse IndexedSlices to a dense Tensor of unknown shape. \"\n",
            "/usr/local/lib/python3.6/dist-packages/keras/engine/training_generator.py:49: UserWarning: Using a generator with `use_multiprocessing=True` and multiple workers may duplicate your data. Please consider using the `keras.utils.Sequence class.\n",
            "  UserWarning('Using a generator with `use_multiprocessing=True`'\n"
          ],
          "name": "stderr"
        },
        {
          "output_type": "stream",
          "text": [
            "Epoch 3/6\n",
            "1000/1000 [==============================] - 1125s 1s/step - loss: 0.2876 - rpn_class_loss: 0.0039 - rpn_bbox_loss: 0.0542 - mrcnn_class_loss: 0.0645 - mrcnn_bbox_loss: 0.0505 - mrcnn_mask_loss: 0.1144 - val_loss: 9.7625 - val_rpn_class_loss: 0.5605 - val_rpn_bbox_loss: 6.4587 - val_mrcnn_class_loss: 1.3013 - val_mrcnn_bbox_loss: 0.5117 - val_mrcnn_mask_loss: 0.9304\n",
            "Epoch 4/6\n",
            "1000/1000 [==============================] - 940s 940ms/step - loss: 0.1281 - rpn_class_loss: 0.0014 - rpn_bbox_loss: 0.0096 - mrcnn_class_loss: 0.0239 - mrcnn_bbox_loss: 0.0150 - mrcnn_mask_loss: 0.0781 - val_loss: 10.6647 - val_rpn_class_loss: 0.5873 - val_rpn_bbox_loss: 6.4199 - val_mrcnn_class_loss: 1.8172 - val_mrcnn_bbox_loss: 0.5705 - val_mrcnn_mask_loss: 1.2698\n",
            "Epoch 5/6\n",
            "1000/1000 [==============================] - 935s 935ms/step - loss: 0.0976 - rpn_class_loss: 0.0010 - rpn_bbox_loss: 0.0044 - mrcnn_class_loss: 0.0170 - mrcnn_bbox_loss: 0.0082 - mrcnn_mask_loss: 0.0669 - val_loss: 10.1241 - val_rpn_class_loss: 0.5959 - val_rpn_bbox_loss: 5.7933 - val_mrcnn_class_loss: 1.7618 - val_mrcnn_bbox_loss: 0.5949 - val_mrcnn_mask_loss: 1.3782\n",
            "Epoch 6/6\n",
            "1000/1000 [==============================] - 927s 927ms/step - loss: 0.0853 - rpn_class_loss: 7.3581e-04 - rpn_bbox_loss: 0.0034 - mrcnn_class_loss: 0.0142 - mrcnn_bbox_loss: 0.0062 - mrcnn_mask_loss: 0.0609 - val_loss: 10.5057 - val_rpn_class_loss: 0.6536 - val_rpn_bbox_loss: 6.5359 - val_mrcnn_class_loss: 1.7046 - val_mrcnn_bbox_loss: 0.5395 - val_mrcnn_mask_loss: 1.0721\n"
          ],
          "name": "stdout"
        }
      ]
    },
    {
      "cell_type": "code",
      "metadata": {
        "trusted": true,
        "id": "d9vQgyQBOy3e",
        "colab_type": "code",
        "outputId": "ae355289-96d4-42f4-a94f-763485fa58ff",
        "colab": {
          "base_uri": "https://localhost:8080/",
          "height": 396
        }
      },
      "source": [
        "epochs = np.arange(EPOCHS[0])\n",
        "\n",
        "plt.figure(figsize=(18, 6))\n",
        "\n",
        "plt.subplot(131)\n",
        "plt.plot(epochs,history['loss'], \n",
        "         label=\"train loss\")\n",
        "plt.plot(epochs, history['val_loss'], \n",
        "         label=\"valid loss\")\n",
        "plt.legend()\n",
        "plt.subplot(132)\n",
        "plt.plot(epochs, history['mrcnn_class_loss'], label=\"train class loss\")\n",
        "plt.plot(epochs, history['val_mrcnn_class_loss'], label=\"valid class loss\")\n",
        "plt.legend()\n",
        "plt.subplot(133)\n",
        "plt.plot(epochs, history['mrcnn_mask_loss'], label=\"train mask loss\")\n",
        "plt.plot(epochs, history['val_mrcnn_mask_loss'], label=\"valid mask loss\")\n",
        "plt.legend()\n",
        "\n",
        "plt.show()"
      ],
      "execution_count": 26,
      "outputs": [
        {
          "output_type": "display_data",
          "data": {
            "image/png": "[encoded data removed]",
            "text/plain": [
              "<Figure size 1296x432 with 3 Axes>"
            ]
          },
          "metadata": {
            "tags": []
          }
        }
      ]
    },
    {
      "cell_type": "code",
      "metadata": {
        "id": "txcMrIwY0auk",
        "colab_type": "code",
        "outputId": "cedbad9b-8e29-490f-aba4-de29236a6ec6",
        "colab": {
          "base_uri": "https://localhost:8080/",
          "height": 394
        }
      },
      "source": [
        "epochs = np.arange(4)\n",
        "\n",
        "plt.figure(figsize=(18, 6))\n",
        "\n",
        "plt.subplot(131)\n",
        "plt.plot(epochs,new_history['loss'], \n",
        "         label=\"train loss\")\n",
        "plt.plot(epochs, new_history['val_loss'], \n",
        "         label=\"valid loss\")\n",
        "plt.legend()\n",
        "plt.subplot(132)\n",
        "plt.plot(epochs, new_history['mrcnn_class_loss'], label=\"train class loss\")\n",
        "plt.plot(epochs, new_history['val_mrcnn_class_loss'], label=\"valid class loss\")\n",
        "plt.legend()\n",
        "plt.subplot(133)\n",
        "plt.plot(epochs, new_history['mrcnn_mask_loss'], label=\"train mask loss\")\n",
        "plt.plot(epochs, new_history['val_mrcnn_mask_loss'], label=\"valid mask loss\")\n",
        "plt.legend()\n",
        "\n",
        "plt.show()"
      ],
      "execution_count": 27,
      "outputs": [
        {
          "output_type": "display_data",
          "data": {
            "image/png": "[encoded data removed]",
            "text/plain": [
              "<Figure size 1296x432 with 3 Axes>"
            ]
          },
          "metadata": {
            "tags": []
          }
        }
      ]
    },
    {
      "cell_type": "markdown",
      "metadata": {
        "id": "tV_JHf1-iur9",
        "colab_type": "text"
      },
      "source": [
        "Переобучение прошло успешно, судя по разнице в значениях функции потерь на тренировочных дааных и валидационных, что неудивительно при таком количестве параметров сети и размере тренировочного датасета. Однако лосс по отношению к классификации, а не сегментации, снижается как для тренировочных данных, так и для валидационных "
      ]
    },
    {
      "cell_type": "code",
      "metadata": {
        "trusted": true,
        "id": "3hcq68BHOy3h",
        "colab_type": "code",
        "outputId": "e10a5298-5c76-468e-95ec-83a9d7f7d98b",
        "colab": {
          "base_uri": "https://localhost:8080/",
          "height": 54
        }
      },
      "source": [
        "best_epoch = np.argmin(history[\"val_loss\"]) + 1\n",
        "print(\"Best epoch: \", best_epoch)\n",
        "print(\"Valid loss: \", history[\"val_loss\"][best_epoch-1])"
      ],
      "execution_count": 28,
      "outputs": [
        {
          "output_type": "stream",
          "text": [
            "Best epoch:  1\n",
            "Valid loss:  8.757496285438538\n"
          ],
          "name": "stdout"
        }
      ]
    },
    {
      "cell_type": "markdown",
      "metadata": {
        "id": "fAnDhx9VZg3C",
        "colab_type": "text"
      },
      "source": [
        "Попробуем большую архитектуру resnet-101"
      ]
    },
    {
      "cell_type": "code",
      "metadata": {
        "trusted": true,
        "id": "gkPY7g7JOy3j",
        "colab_type": "code",
        "outputId": "a2abd1c5-21cf-4a4e-a104-05618bc2b783",
        "colab": {
          "base_uri": "https://localhost:8080/",
          "height": 983
        }
      },
      "source": [
        "config = Config_('resnet101')\n",
        "config.display()"
      ],
      "execution_count": 42,
      "outputs": [
        {
          "output_type": "stream",
          "text": [
            "\n",
            "Configurations:\n",
            "BACKBONE                       resnet101\n",
            "BACKBONE_STRIDES               [4, 8, 16, 32, 64]\n",
            "BATCH_SIZE                     2\n",
            "BBOX_STD_DEV                   [0.1 0.1 0.2 0.2]\n",
            "COMPUTE_BACKBONE_SHAPE         None\n",
            "DETECTION_MAX_INSTANCES        100\n",
            "DETECTION_MIN_CONFIDENCE       0.7\n",
            "DETECTION_NMS_THRESHOLD        0.3\n",
            "FPN_CLASSIF_FC_LAYERS_SIZE     1024\n",
            "GPU_COUNT                      1\n",
            "GRADIENT_CLIP_NORM             5.0\n",
            "IMAGES_PER_GPU                 2\n",
            "IMAGE_CHANNEL_COUNT            3\n",
            "IMAGE_MAX_DIM                  512\n",
            "IMAGE_META_SIZE                59\n",
            "IMAGE_MIN_DIM                  512\n",
            "IMAGE_MIN_SCALE                0\n",
            "IMAGE_RESIZE_MODE              none\n",
            "IMAGE_SHAPE                    [512 512   3]\n",
            "LEARNING_MOMENTUM              0.9\n",
            "LEARNING_RATE                  0.001\n",
            "LOSS_WEIGHTS                   {'rpn_class_loss': 1.0, 'rpn_bbox_loss': 1.0, 'mrcnn_class_loss': 1.0, 'mrcnn_bbox_loss': 1.0, 'mrcnn_mask_loss': 1.0}\n",
            "MASK_POOL_SIZE                 14\n",
            "MASK_SHAPE                     [28, 28]\n",
            "MAX_GT_INSTANCES               100\n",
            "MEAN_PIXEL                     [123.7 116.8 103.9]\n",
            "MINI_MASK_SHAPE                (56, 56)\n",
            "NAME                           fashion\n",
            "NUM_CLASSES                    47\n",
            "POOL_SIZE                      7\n",
            "POST_NMS_ROIS_INFERENCE        1000\n",
            "POST_NMS_ROIS_TRAINING         2000\n",
            "PRE_NMS_LIMIT                  6000\n",
            "ROI_POSITIVE_RATIO             0.33\n",
            "RPN_ANCHOR_RATIOS              [0.5, 1, 2]\n",
            "RPN_ANCHOR_SCALES              (16, 32, 64, 128, 256)\n",
            "RPN_ANCHOR_STRIDE              1\n",
            "RPN_BBOX_STD_DEV               [0.1 0.1 0.2 0.2]\n",
            "RPN_NMS_THRESHOLD              0.7\n",
            "RPN_TRAIN_ANCHORS_PER_IMAGE    256\n",
            "STEPS_PER_EPOCH                1000\n",
            "TOP_DOWN_PYRAMID_SIZE          256\n",
            "TRAIN_BN                       False\n",
            "TRAIN_ROIS_PER_IMAGE           200\n",
            "USE_MINI_MASK                  True\n",
            "USE_RPN_ROIS                   True\n",
            "VALIDATION_STEPS               200\n",
            "WEIGHT_DECAY                   0.0001\n",
            "\n",
            "\n"
          ],
          "name": "stdout"
        }
      ]
    },
    {
      "cell_type": "markdown",
      "metadata": {
        "id": "ip6oAnpgOy3p",
        "colab_type": "text"
      },
      "source": [
        "Теперь проделываем все то де с архитектурой на 101 слой"
      ]
    },
    {
      "cell_type": "code",
      "metadata": {
        "trusted": true,
        "id": "jkQjQrdDOy3r",
        "colab_type": "code",
        "colab": {}
      },
      "source": [
        "model_2 = modellib.MaskRCNN(mode='training', config=config, model_dir=ROOT_DIR)\n",
        "\n",
        "model_2.load_weights(COCO_WEIGHTS_PATH, by_name=True, exclude=[\n",
        "    'mrcnn_class_logits', 'mrcnn_bbox_fc', 'mrcnn_bbox', 'mrcnn_mask'])"
      ],
      "execution_count": 0,
      "outputs": []
    },
    {
      "cell_type": "code",
      "metadata": {
        "trusted": true,
        "id": "R98raJN4Oy3u",
        "colab_type": "code",
        "outputId": "18dea991-da4f-4424-caed-7e7a0f07269d",
        "colab": {
          "base_uri": "https://localhost:8080/",
          "height": 874
        }
      },
      "source": [
        "model_2.train(train_dataset, valid_dataset,\n",
        "            learning_rate=LR*2, # train heads with higher lr to speedup learning\n",
        "            epochs=EPOCHS[0],\n",
        "            layers='heads',\n",
        "            augmentation=None)\n",
        "\n",
        "history = model_2.keras_model.history.history"
      ],
      "execution_count": 44,
      "outputs": [
        {
          "output_type": "stream",
          "text": [
            "\n",
            "Starting at epoch 0. LR=0.002\n",
            "\n",
            "Checkpoint Path: /kaggle/working/fashion20191222T1406/mask_rcnn_fashion_{epoch:04d}.h5\n",
            "Selecting layers to train\n",
            "fpn_c5p5               (Conv2D)\n",
            "fpn_c4p4               (Conv2D)\n",
            "fpn_c3p3               (Conv2D)\n",
            "fpn_c2p2               (Conv2D)\n",
            "fpn_p5                 (Conv2D)\n",
            "fpn_p2                 (Conv2D)\n",
            "fpn_p3                 (Conv2D)\n",
            "fpn_p4                 (Conv2D)\n",
            "In model:  rpn_model\n",
            "    rpn_conv_shared        (Conv2D)\n",
            "    rpn_class_raw          (Conv2D)\n",
            "    rpn_bbox_pred          (Conv2D)\n",
            "mrcnn_mask_conv1       (TimeDistributed)\n",
            "mrcnn_mask_bn1         (TimeDistributed)\n",
            "mrcnn_mask_conv2       (TimeDistributed)\n",
            "mrcnn_mask_bn2         (TimeDistributed)\n",
            "mrcnn_class_conv1      (TimeDistributed)\n",
            "mrcnn_class_bn1        (TimeDistributed)\n",
            "mrcnn_mask_conv3       (TimeDistributed)\n",
            "mrcnn_mask_bn3         (TimeDistributed)\n",
            "mrcnn_class_conv2      (TimeDistributed)\n",
            "mrcnn_class_bn2        (TimeDistributed)\n",
            "mrcnn_mask_conv4       (TimeDistributed)\n",
            "mrcnn_mask_bn4         (TimeDistributed)\n",
            "mrcnn_bbox_fc          (TimeDistributed)\n",
            "mrcnn_mask_deconv      (TimeDistributed)\n",
            "mrcnn_class_logits     (TimeDistributed)\n",
            "mrcnn_mask             (TimeDistributed)\n"
          ],
          "name": "stdout"
        },
        {
          "output_type": "stream",
          "text": [
            "/usr/local/lib/python3.6/dist-packages/tensorflow_core/python/framework/indexed_slices.py:424: UserWarning: Converting sparse IndexedSlices to a dense Tensor of unknown shape. This may consume a large amount of memory.\n",
            "  \"Converting sparse IndexedSlices to a dense Tensor of unknown shape. \"\n",
            "/usr/local/lib/python3.6/dist-packages/tensorflow_core/python/framework/indexed_slices.py:424: UserWarning: Converting sparse IndexedSlices to a dense Tensor of unknown shape. This may consume a large amount of memory.\n",
            "  \"Converting sparse IndexedSlices to a dense Tensor of unknown shape. \"\n",
            "/usr/local/lib/python3.6/dist-packages/tensorflow_core/python/framework/indexed_slices.py:424: UserWarning: Converting sparse IndexedSlices to a dense Tensor of unknown shape. This may consume a large amount of memory.\n",
            "  \"Converting sparse IndexedSlices to a dense Tensor of unknown shape. \"\n",
            "/usr/local/lib/python3.6/dist-packages/keras/engine/training_generator.py:49: UserWarning: Using a generator with `use_multiprocessing=True` and multiple workers may duplicate your data. Please consider using the `keras.utils.Sequence class.\n",
            "  UserWarning('Using a generator with `use_multiprocessing=True`'\n"
          ],
          "name": "stderr"
        },
        {
          "output_type": "stream",
          "text": [
            "Epoch 1/2\n",
            "1000/1000 [==============================] - 1106s 1s/step - loss: 0.6273 - rpn_class_loss: 0.0160 - rpn_bbox_loss: 0.1410 - mrcnn_class_loss: 0.1110 - mrcnn_bbox_loss: 0.1594 - mrcnn_mask_loss: 0.1999 - val_loss: 9.7372 - val_rpn_class_loss: 0.3876 - val_rpn_bbox_loss: 5.4874 - val_mrcnn_class_loss: 2.1022 - val_mrcnn_bbox_loss: 0.7879 - val_mrcnn_mask_loss: 0.9720\n",
            "Epoch 2/2\n",
            "1000/1000 [==============================] - 871s 871ms/step - loss: 0.1724 - rpn_class_loss: 0.0028 - rpn_bbox_loss: 0.0192 - mrcnn_class_loss: 0.0335 - mrcnn_bbox_loss: 0.0302 - mrcnn_mask_loss: 0.0866 - val_loss: 11.1205 - val_rpn_class_loss: 0.4515 - val_rpn_bbox_loss: 6.1055 - val_mrcnn_class_loss: 2.3062 - val_mrcnn_bbox_loss: 0.7869 - val_mrcnn_mask_loss: 1.4705\n",
            "\n"
          ],
          "name": "stdout"
        }
      ]
    },
    {
      "cell_type": "code",
      "metadata": {
        "trusted": true,
        "id": "mt9nAvXdOy3w",
        "colab_type": "code",
        "outputId": "db4a9221-d595-4457-a15c-f4670ca7f2cd",
        "colab": {
          "base_uri": "https://localhost:8080/",
          "height": 1000
        }
      },
      "source": [
        "model_2.train(train_dataset, valid_dataset,\n",
        "            learning_rate=LR,\n",
        "            epochs=EPOCHS[1],\n",
        "            layers='all',\n",
        "            augmentation=augmentation)\n",
        "\n",
        "new_history = model_2.keras_model.history.history"
      ],
      "execution_count": 45,
      "outputs": [
        {
          "output_type": "stream",
          "text": [
            "\n",
            "Starting at epoch 2. LR=0.001\n",
            "\n",
            "Checkpoint Path: /kaggle/working/fashion20191222T1406/mask_rcnn_fashion_{epoch:04d}.h5\n",
            "Selecting layers to train\n",
            "conv1                  (Conv2D)\n",
            "bn_conv1               (BatchNorm)\n",
            "res2a_branch2a         (Conv2D)\n",
            "bn2a_branch2a          (BatchNorm)\n",
            "res2a_branch2b         (Conv2D)\n",
            "bn2a_branch2b          (BatchNorm)\n",
            "res2a_branch2c         (Conv2D)\n",
            "res2a_branch1          (Conv2D)\n",
            "bn2a_branch2c          (BatchNorm)\n",
            "bn2a_branch1           (BatchNorm)\n",
            "res2b_branch2a         (Conv2D)\n",
            "bn2b_branch2a          (BatchNorm)\n",
            "res2b_branch2b         (Conv2D)\n",
            "bn2b_branch2b          (BatchNorm)\n",
            "res2b_branch2c         (Conv2D)\n",
            "bn2b_branch2c          (BatchNorm)\n",
            "res2c_branch2a         (Conv2D)\n",
            "bn2c_branch2a          (BatchNorm)\n",
            "res2c_branch2b         (Conv2D)\n",
            "bn2c_branch2b          (BatchNorm)\n",
            "res2c_branch2c         (Conv2D)\n",
            "bn2c_branch2c          (BatchNorm)\n",
            "res3a_branch2a         (Conv2D)\n",
            "bn3a_branch2a          (BatchNorm)\n",
            "res3a_branch2b         (Conv2D)\n",
            "bn3a_branch2b          (BatchNorm)\n",
            "res3a_branch2c         (Conv2D)\n",
            "res3a_branch1          (Conv2D)\n",
            "bn3a_branch2c          (BatchNorm)\n",
            "bn3a_branch1           (BatchNorm)\n",
            "res3b_branch2a         (Conv2D)\n",
            "bn3b_branch2a          (BatchNorm)\n",
            "res3b_branch2b         (Conv2D)\n",
            "bn3b_branch2b          (BatchNorm)\n",
            "res3b_branch2c         (Conv2D)\n",
            "bn3b_branch2c          (BatchNorm)\n",
            "res3c_branch2a         (Conv2D)\n",
            "bn3c_branch2a          (BatchNorm)\n",
            "res3c_branch2b         (Conv2D)\n",
            "bn3c_branch2b          (BatchNorm)\n",
            "res3c_branch2c         (Conv2D)\n",
            "bn3c_branch2c          (BatchNorm)\n",
            "res3d_branch2a         (Conv2D)\n",
            "bn3d_branch2a          (BatchNorm)\n",
            "res3d_branch2b         (Conv2D)\n",
            "bn3d_branch2b          (BatchNorm)\n",
            "res3d_branch2c         (Conv2D)\n",
            "bn3d_branch2c          (BatchNorm)\n",
            "res4a_branch2a         (Conv2D)\n",
            "bn4a_branch2a          (BatchNorm)\n",
            "res4a_branch2b         (Conv2D)\n",
            "bn4a_branch2b          (BatchNorm)\n",
            "res4a_branch2c         (Conv2D)\n",
            "res4a_branch1          (Conv2D)\n",
            "bn4a_branch2c          (BatchNorm)\n",
            "bn4a_branch1           (BatchNorm)\n",
            "res4b_branch2a         (Conv2D)\n",
            "bn4b_branch2a          (BatchNorm)\n",
            "res4b_branch2b         (Conv2D)\n",
            "bn4b_branch2b          (BatchNorm)\n",
            "res4b_branch2c         (Conv2D)\n",
            "bn4b_branch2c          (BatchNorm)\n",
            "res4c_branch2a         (Conv2D)\n",
            "bn4c_branch2a          (BatchNorm)\n",
            "res4c_branch2b         (Conv2D)\n",
            "bn4c_branch2b          (BatchNorm)\n",
            "res4c_branch2c         (Conv2D)\n",
            "bn4c_branch2c          (BatchNorm)\n",
            "res4d_branch2a         (Conv2D)\n",
            "bn4d_branch2a          (BatchNorm)\n",
            "res4d_branch2b         (Conv2D)\n",
            "bn4d_branch2b          (BatchNorm)\n",
            "res4d_branch2c         (Conv2D)\n",
            "bn4d_branch2c          (BatchNorm)\n",
            "res4e_branch2a         (Conv2D)\n",
            "bn4e_branch2a          (BatchNorm)\n",
            "res4e_branch2b         (Conv2D)\n",
            "bn4e_branch2b          (BatchNorm)\n",
            "res4e_branch2c         (Conv2D)\n",
            "bn4e_branch2c          (BatchNorm)\n",
            "res4f_branch2a         (Conv2D)\n",
            "bn4f_branch2a          (BatchNorm)\n",
            "res4f_branch2b         (Conv2D)\n",
            "bn4f_branch2b          (BatchNorm)\n",
            "res4f_branch2c         (Conv2D)\n",
            "bn4f_branch2c          (BatchNorm)\n",
            "res4g_branch2a         (Conv2D)\n",
            "bn4g_branch2a          (BatchNorm)\n",
            "res4g_branch2b         (Conv2D)\n",
            "bn4g_branch2b          (BatchNorm)\n",
            "res4g_branch2c         (Conv2D)\n",
            "bn4g_branch2c          (BatchNorm)\n",
            "res4h_branch2a         (Conv2D)\n",
            "bn4h_branch2a          (BatchNorm)\n",
            "res4h_branch2b         (Conv2D)\n",
            "bn4h_branch2b          (BatchNorm)\n",
            "res4h_branch2c         (Conv2D)\n",
            "bn4h_branch2c          (BatchNorm)\n",
            "res4i_branch2a         (Conv2D)\n",
            "bn4i_branch2a          (BatchNorm)\n",
            "res4i_branch2b         (Conv2D)\n",
            "bn4i_branch2b          (BatchNorm)\n",
            "res4i_branch2c         (Conv2D)\n",
            "bn4i_branch2c          (BatchNorm)\n",
            "res4j_branch2a         (Conv2D)\n",
            "bn4j_branch2a          (BatchNorm)\n",
            "res4j_branch2b         (Conv2D)\n",
            "bn4j_branch2b          (BatchNorm)\n",
            "res4j_branch2c         (Conv2D)\n",
            "bn4j_branch2c          (BatchNorm)\n",
            "res4k_branch2a         (Conv2D)\n",
            "bn4k_branch2a          (BatchNorm)\n",
            "res4k_branch2b         (Conv2D)\n",
            "bn4k_branch2b          (BatchNorm)\n",
            "res4k_branch2c         (Conv2D)\n",
            "bn4k_branch2c          (BatchNorm)\n",
            "res4l_branch2a         (Conv2D)\n",
            "bn4l_branch2a          (BatchNorm)\n",
            "res4l_branch2b         (Conv2D)\n",
            "bn4l_branch2b          (BatchNorm)\n",
            "res4l_branch2c         (Conv2D)\n",
            "bn4l_branch2c          (BatchNorm)\n",
            "res4m_branch2a         (Conv2D)\n",
            "bn4m_branch2a          (BatchNorm)\n",
            "res4m_branch2b         (Conv2D)\n",
            "bn4m_branch2b          (BatchNorm)\n",
            "res4m_branch2c         (Conv2D)\n",
            "bn4m_branch2c          (BatchNorm)\n",
            "res4n_branch2a         (Conv2D)\n",
            "bn4n_branch2a          (BatchNorm)\n",
            "res4n_branch2b         (Conv2D)\n",
            "bn4n_branch2b          (BatchNorm)\n",
            "res4n_branch2c         (Conv2D)\n",
            "bn4n_branch2c          (BatchNorm)\n",
            "res4o_branch2a         (Conv2D)\n",
            "bn4o_branch2a          (BatchNorm)\n",
            "res4o_branch2b         (Conv2D)\n",
            "bn4o_branch2b          (BatchNorm)\n",
            "res4o_branch2c         (Conv2D)\n",
            "bn4o_branch2c          (BatchNorm)\n",
            "res4p_branch2a         (Conv2D)\n",
            "bn4p_branch2a          (BatchNorm)\n",
            "res4p_branch2b         (Conv2D)\n",
            "bn4p_branch2b          (BatchNorm)\n",
            "res4p_branch2c         (Conv2D)\n",
            "bn4p_branch2c          (BatchNorm)\n",
            "res4q_branch2a         (Conv2D)\n",
            "bn4q_branch2a          (BatchNorm)\n",
            "res4q_branch2b         (Conv2D)\n",
            "bn4q_branch2b          (BatchNorm)\n",
            "res4q_branch2c         (Conv2D)\n",
            "bn4q_branch2c          (BatchNorm)\n",
            "res4r_branch2a         (Conv2D)\n",
            "bn4r_branch2a          (BatchNorm)\n",
            "res4r_branch2b         (Conv2D)\n",
            "bn4r_branch2b          (BatchNorm)\n",
            "res4r_branch2c         (Conv2D)\n",
            "bn4r_branch2c          (BatchNorm)\n",
            "res4s_branch2a         (Conv2D)\n",
            "bn4s_branch2a          (BatchNorm)\n",
            "res4s_branch2b         (Conv2D)\n",
            "bn4s_branch2b          (BatchNorm)\n",
            "res4s_branch2c         (Conv2D)\n",
            "bn4s_branch2c          (BatchNorm)\n",
            "res4t_branch2a         (Conv2D)\n",
            "bn4t_branch2a          (BatchNorm)\n",
            "res4t_branch2b         (Conv2D)\n",
            "bn4t_branch2b          (BatchNorm)\n",
            "res4t_branch2c         (Conv2D)\n",
            "bn4t_branch2c          (BatchNorm)\n",
            "res4u_branch2a         (Conv2D)\n",
            "bn4u_branch2a          (BatchNorm)\n",
            "res4u_branch2b         (Conv2D)\n",
            "bn4u_branch2b          (BatchNorm)\n",
            "res4u_branch2c         (Conv2D)\n",
            "bn4u_branch2c          (BatchNorm)\n",
            "res4v_branch2a         (Conv2D)\n",
            "bn4v_branch2a          (BatchNorm)\n",
            "res4v_branch2b         (Conv2D)\n",
            "bn4v_branch2b          (BatchNorm)\n",
            "res4v_branch2c         (Conv2D)\n",
            "bn4v_branch2c          (BatchNorm)\n",
            "res4w_branch2a         (Conv2D)\n",
            "bn4w_branch2a          (BatchNorm)\n",
            "res4w_branch2b         (Conv2D)\n",
            "bn4w_branch2b          (BatchNorm)\n",
            "res4w_branch2c         (Conv2D)\n",
            "bn4w_branch2c          (BatchNorm)\n",
            "res5a_branch2a         (Conv2D)\n",
            "bn5a_branch2a          (BatchNorm)\n",
            "res5a_branch2b         (Conv2D)\n",
            "bn5a_branch2b          (BatchNorm)\n",
            "res5a_branch2c         (Conv2D)\n",
            "res5a_branch1          (Conv2D)\n",
            "bn5a_branch2c          (BatchNorm)\n",
            "bn5a_branch1           (BatchNorm)\n",
            "res5b_branch2a         (Conv2D)\n",
            "bn5b_branch2a          (BatchNorm)\n",
            "res5b_branch2b         (Conv2D)\n",
            "bn5b_branch2b          (BatchNorm)\n",
            "res5b_branch2c         (Conv2D)\n",
            "bn5b_branch2c          (BatchNorm)\n",
            "res5c_branch2a         (Conv2D)\n",
            "bn5c_branch2a          (BatchNorm)\n",
            "res5c_branch2b         (Conv2D)\n",
            "bn5c_branch2b          (BatchNorm)\n",
            "res5c_branch2c         (Conv2D)\n",
            "bn5c_branch2c          (BatchNorm)\n",
            "fpn_c5p5               (Conv2D)\n",
            "fpn_c4p4               (Conv2D)\n",
            "fpn_c3p3               (Conv2D)\n",
            "fpn_c2p2               (Conv2D)\n",
            "fpn_p5                 (Conv2D)\n",
            "fpn_p2                 (Conv2D)\n",
            "fpn_p3                 (Conv2D)\n",
            "fpn_p4                 (Conv2D)\n",
            "In model:  rpn_model\n",
            "    rpn_conv_shared        (Conv2D)\n",
            "    rpn_class_raw          (Conv2D)\n",
            "    rpn_bbox_pred          (Conv2D)\n",
            "mrcnn_mask_conv1       (TimeDistributed)\n",
            "mrcnn_mask_bn1         (TimeDistributed)\n",
            "mrcnn_mask_conv2       (TimeDistributed)\n",
            "mrcnn_mask_bn2         (TimeDistributed)\n",
            "mrcnn_class_conv1      (TimeDistributed)\n",
            "mrcnn_class_bn1        (TimeDistributed)\n",
            "mrcnn_mask_conv3       (TimeDistributed)\n",
            "mrcnn_mask_bn3         (TimeDistributed)\n",
            "mrcnn_class_conv2      (TimeDistributed)\n",
            "mrcnn_class_bn2        (TimeDistributed)\n",
            "mrcnn_mask_conv4       (TimeDistributed)\n",
            "mrcnn_mask_bn4         (TimeDistributed)\n",
            "mrcnn_bbox_fc          (TimeDistributed)\n",
            "mrcnn_mask_deconv      (TimeDistributed)\n",
            "mrcnn_class_logits     (TimeDistributed)\n",
            "mrcnn_mask             (TimeDistributed)\n"
          ],
          "name": "stdout"
        },
        {
          "output_type": "stream",
          "text": [
            "/usr/local/lib/python3.6/dist-packages/tensorflow_core/python/framework/indexed_slices.py:424: UserWarning: Converting sparse IndexedSlices to a dense Tensor of unknown shape. This may consume a large amount of memory.\n",
            "  \"Converting sparse IndexedSlices to a dense Tensor of unknown shape. \"\n",
            "/usr/local/lib/python3.6/dist-packages/tensorflow_core/python/framework/indexed_slices.py:424: UserWarning: Converting sparse IndexedSlices to a dense Tensor of unknown shape. This may consume a large amount of memory.\n",
            "  \"Converting sparse IndexedSlices to a dense Tensor of unknown shape. \"\n",
            "/usr/local/lib/python3.6/dist-packages/tensorflow_core/python/framework/indexed_slices.py:424: UserWarning: Converting sparse IndexedSlices to a dense Tensor of unknown shape. This may consume a large amount of memory.\n",
            "  \"Converting sparse IndexedSlices to a dense Tensor of unknown shape. \"\n",
            "/usr/local/lib/python3.6/dist-packages/keras/engine/training_generator.py:49: UserWarning: Using a generator with `use_multiprocessing=True` and multiple workers may duplicate your data. Please consider using the `keras.utils.Sequence class.\n",
            "  UserWarning('Using a generator with `use_multiprocessing=True`'\n"
          ],
          "name": "stderr"
        },
        {
          "output_type": "stream",
          "text": [
            "Epoch 3/6\n",
            "1000/1000 [==============================] - 1438s 1s/step - loss: 0.3246 - rpn_class_loss: 0.0040 - rpn_bbox_loss: 0.0708 - mrcnn_class_loss: 0.0727 - mrcnn_bbox_loss: 0.0573 - mrcnn_mask_loss: 0.1197 - val_loss: 8.8714 - val_rpn_class_loss: 0.3905 - val_rpn_bbox_loss: 4.6455 - val_mrcnn_class_loss: 2.1488 - val_mrcnn_bbox_loss: 0.6235 - val_mrcnn_mask_loss: 1.0631\n",
            "Epoch 4/6\n",
            "1000/1000 [==============================] - 1239s 1s/step - loss: 0.1218 - rpn_class_loss: 0.0012 - rpn_bbox_loss: 0.0078 - mrcnn_class_loss: 0.0248 - mrcnn_bbox_loss: 0.0132 - mrcnn_mask_loss: 0.0749 - val_loss: 8.7921 - val_rpn_class_loss: 0.3949 - val_rpn_bbox_loss: 4.4262 - val_mrcnn_class_loss: 2.1845 - val_mrcnn_bbox_loss: 0.6701 - val_mrcnn_mask_loss: 1.1164\n",
            "Epoch 5/6\n",
            "1000/1000 [==============================] - 1232s 1s/step - loss: 0.0879 - rpn_class_loss: 8.4727e-04 - rpn_bbox_loss: 0.0021 - mrcnn_class_loss: 0.0167 - mrcnn_bbox_loss: 0.0056 - mrcnn_mask_loss: 0.0627 - val_loss: 9.2451 - val_rpn_class_loss: 0.4345 - val_rpn_bbox_loss: 4.6252 - val_mrcnn_class_loss: 2.4556 - val_mrcnn_bbox_loss: 0.6428 - val_mrcnn_mask_loss: 1.0869\n",
            "Epoch 6/6\n",
            "1000/1000 [==============================] - 1219s 1s/step - loss: 0.0912 - rpn_class_loss: 6.2963e-04 - rpn_bbox_loss: 0.0047 - mrcnn_class_loss: 0.0172 - mrcnn_bbox_loss: 0.0089 - mrcnn_mask_loss: 0.0598 - val_loss: 9.3416 - val_rpn_class_loss: 0.4502 - val_rpn_bbox_loss: 4.6304 - val_mrcnn_class_loss: 2.2817 - val_mrcnn_bbox_loss: 0.6939 - val_mrcnn_mask_loss: 1.2852\n"
          ],
          "name": "stdout"
        }
      ]
    },
    {
      "cell_type": "code",
      "metadata": {
        "trusted": true,
        "id": "zOeXp-KIOy30",
        "colab_type": "code",
        "outputId": "eadf0689-2203-4566-9dc3-47762ce5c3b4",
        "colab": {
          "base_uri": "https://localhost:8080/",
          "height": 394
        }
      },
      "source": [
        "epochs = range(EPOCHS[0])\n",
        "\n",
        "plt.figure(figsize=(18, 6))\n",
        "\n",
        "plt.subplot(131)\n",
        "plt.plot(epochs, history['loss'], label=\"train loss\")\n",
        "plt.plot(epochs, history['val_loss'], label=\"valid loss\")\n",
        "plt.legend()\n",
        "plt.subplot(132)\n",
        "plt.plot(epochs, history['mrcnn_class_loss'], label=\"train class loss\")\n",
        "plt.plot(epochs, history['val_mrcnn_class_loss'], label=\"valid class loss\")\n",
        "plt.legend()\n",
        "plt.subplot(133)\n",
        "plt.plot(epochs, history['mrcnn_mask_loss'], label=\"train mask loss\")\n",
        "plt.plot(epochs, history['val_mrcnn_mask_loss'], label=\"valid mask loss\")\n",
        "plt.legend()\n",
        "\n",
        "plt.show()"
      ],
      "execution_count": 47,
      "outputs": [
        {
          "output_type": "display_data",
          "data": {
            "image/png": "[encoded data removed]",
            "text/plain": [
              "<Figure size 1296x432 with 3 Axes>"
            ]
          },
          "metadata": {
            "tags": []
          }
        }
      ]
    },
    {
      "cell_type": "markdown",
      "metadata": {
        "id": "DSqnFEg94pIx",
        "colab_type": "text"
      },
      "source": [
        "Как видим, при большей размерности сети разница в лоссе для тренировочных данных и валидационных еще больше"
      ]
    },
    {
      "cell_type": "code",
      "metadata": {
        "trusted": true,
        "id": "W30iiPBMOy33",
        "colab_type": "code",
        "colab": {
          "base_uri": "https://localhost:8080/",
          "height": 54
        },
        "outputId": "2b8b44f3-d8d6-4120-bb2b-2ecaf20c23db"
      },
      "source": [
        "best_epoch = np.argmin(history[\"val_loss\"]) + 1\n",
        "print(\"Best epoch: \", best_epoch)\n",
        "print(\"Valid loss: \", history[\"val_loss\"][best_epoch-1])"
      ],
      "execution_count": 48,
      "outputs": [
        {
          "output_type": "stream",
          "text": [
            "Best epoch:  1\n",
            "Valid loss:  9.737150592803955\n"
          ],
          "name": "stdout"
        }
      ]
    },
    {
      "cell_type": "markdown",
      "metadata": {
        "id": "DY5_Vkhy5Hpe",
        "colab_type": "text"
      },
      "source": [
        "**Итог:** чем больше сеть - тем более она склонна к переобучению на сверхмалых объемах данных, так как обучаемых параметров в ней больше и соответственно она более гибкая в лане заучить тренировочный датасет."
      ]
    }
  ]
}